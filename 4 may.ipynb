{
 "cells": [
  {
   "cell_type": "code",
   "execution_count": 1,
   "id": "d9387b1c",
   "metadata": {},
   "outputs": [],
   "source": [
    "# functions\n",
    "# block of code that is callable in the program \n",
    "# when we have to do certain task repetitively in the program\n"
   ]
  },
  {
   "cell_type": "code",
   "execution_count": 2,
   "id": "7ab90d82",
   "metadata": {},
   "outputs": [
    {
     "name": "stdout",
     "output_type": "stream",
     "text": [
      "30\n",
      "2\n",
      "18\n"
     ]
    }
   ],
   "source": [
    "def add(a,b): # ---> parameter in () at the time of declaration\n",
    "    print(a+b)\n",
    "def minus(a,b):\n",
    "    print(a-b)\n",
    "def mul(a,b):\n",
    "    print(a*b)\n",
    "    \n",
    "    \n",
    "add(10,20)  # -----> arguments in () at the time of function calling\n",
    "minus(4,2)\n",
    "mul(6,3)"
   ]
  },
  {
   "cell_type": "code",
   "execution_count": 3,
   "id": "2f2da985",
   "metadata": {},
   "outputs": [
    {
     "name": "stdout",
     "output_type": "stream",
     "text": [
      "30\n"
     ]
    }
   ],
   "source": [
    "def add(a,b):\n",
    "    return a+b\n",
    "\n",
    "print(add(10,20))"
   ]
  },
  {
   "cell_type": "code",
   "execution_count": 4,
   "id": "933d14b4",
   "metadata": {},
   "outputs": [
    {
     "name": "stdout",
     "output_type": "stream",
     "text": [
      "30\n"
     ]
    }
   ],
   "source": [
    "def add(a,b):\n",
    "    return a+b\n",
    "    print(\"hello\") # after return the function access is finish thus this will not access the print stmnt\n",
    "\n",
    "print(add(10,20))"
   ]
  },
  {
   "cell_type": "code",
   "execution_count": 5,
   "id": "69cf6843",
   "metadata": {},
   "outputs": [
    {
     "name": "stdout",
     "output_type": "stream",
     "text": [
      "hello\n",
      "30\n"
     ]
    }
   ],
   "source": [
    "def add(a,b):\n",
    "    print(\"hello\") # print statement is before return statement thus it will print \n",
    "    return a+b\n",
    "   \n",
    "print(add(10,20))"
   ]
  },
  {
   "cell_type": "code",
   "execution_count": 6,
   "id": "2454824b",
   "metadata": {},
   "outputs": [
    {
     "name": "stdout",
     "output_type": "stream",
     "text": [
      "10\n"
     ]
    }
   ],
   "source": [
    "def add(a,b=0): #default parameter ,if there is one argument in calling then this by default value activates and returns the value\n",
    "    return a+b\n",
    "\n",
    "print(add(10))"
   ]
  },
  {
   "cell_type": "code",
   "execution_count": 2,
   "id": "90258caa",
   "metadata": {},
   "outputs": [
    {
     "name": "stdout",
     "output_type": "stream",
     "text": [
      "0\n",
      "1\n",
      "1\n",
      "2\n",
      "3\n",
      "5\n",
      "8\n"
     ]
    }
   ],
   "source": [
    "# fibonacci series\n",
    "\n",
    "def fib(n):\n",
    "    n1=0\n",
    "    n2=1\n",
    "    print(n1,n2,sep=\"\\n\")\n",
    "    for i in range(1,n+1):\n",
    "        n3=n1+n2\n",
    "        print(n3)\n",
    "        n1=n2\n",
    "        n2=n3\n",
    "    \n",
    "fib(5)"
   ]
  },
  {
   "cell_type": "code",
   "execution_count": 13,
   "id": "5273c303",
   "metadata": {},
   "outputs": [
    {
     "name": "stdout",
     "output_type": "stream",
     "text": [
      "enter a nummber:15\n",
      "1\n",
      "2\n",
      "3\n",
      "5\n",
      "7\n",
      "11\n",
      "13\n"
     ]
    }
   ],
   "source": [
    "# n prime numbers\n",
    "def prime(n):\n",
    "  \n",
    "    for i in range(1,n):\n",
    "        flag=0\n",
    "        for j in range(2,i):\n",
    "            if i%j==0:\n",
    "                flag=1\n",
    "        if flag==0:\n",
    "            print(i)\n",
    "                \n",
    "x=int(input(\"enter a nummber:\"))\n",
    "prime(x)"
   ]
  },
  {
   "cell_type": "code",
   "execution_count": 14,
   "id": "a5cd582c",
   "metadata": {},
   "outputs": [
    {
     "name": "stdout",
     "output_type": "stream",
     "text": [
      "30\n"
     ]
    }
   ],
   "source": [
    " # lambda functions ----> anoymous functions\n",
    "    \n",
    "x=lambda a,b:a+b\n",
    "print(x(10,20))"
   ]
  },
  {
   "cell_type": "code",
   "execution_count": 16,
   "id": "1c061b9d",
   "metadata": {},
   "outputs": [
    {
     "name": "stdout",
     "output_type": "stream",
     "text": [
      "100\n"
     ]
    }
   ],
   "source": [
    "x=lambda a,b:a**b\n",
    "print(x(10,2))"
   ]
  },
  {
   "cell_type": "code",
   "execution_count": 17,
   "id": "f3528d03",
   "metadata": {},
   "outputs": [
    {
     "name": "stdout",
     "output_type": "stream",
     "text": [
      "[100, 400, 900, 1600, 2500]\n"
     ]
    }
   ],
   "source": [
    "# high order functions\n",
    "# function that take another function as argument ----. function k andr function\n",
    "\n",
    "x=list(map(lambda a:a**2,[10,20,30,40,50])) #  ---------> just like loop \n",
    "print(x)"
   ]
  },
  {
   "cell_type": "code",
   "execution_count": 18,
   "id": "0ff3eb7f",
   "metadata": {},
   "outputs": [
    {
     "name": "stdout",
     "output_type": "stream",
     "text": [
      "[40, 50]\n"
     ]
    }
   ],
   "source": [
    "x=list(filter(lambda a:a>30,[10,20,30,40,50])) \n",
    "print(x)"
   ]
  },
  {
   "cell_type": "code",
   "execution_count": 19,
   "id": "5f478101",
   "metadata": {},
   "outputs": [
    {
     "name": "stdout",
     "output_type": "stream",
     "text": [
      "['mohit', 'mannu', 'monu']\n"
     ]
    }
   ],
   "source": [
    "x=list(filter(lambda a:a[0][0]==\"m\",[\"mohit\",\"rohit\",\"mannu\",\"monu\",\"aman\"]))\n",
    "print(x)"
   ]
  },
  {
   "cell_type": "code",
   "execution_count": 21,
   "id": "44b354fe",
   "metadata": {},
   "outputs": [
    {
     "name": "stdout",
     "output_type": "stream",
     "text": [
      "[]\n"
     ]
    }
   ],
   "source": [
    "x=list(filter(lambda a:a[0]==\"mohit\",[\"mohit\",\"rohit\",\"mannu\",\"monu\",\"aman\"]))\n",
    "print(x)"
   ]
  },
  {
   "cell_type": "code",
   "execution_count": 24,
   "id": "0c922618",
   "metadata": {},
   "outputs": [
    {
     "name": "stdout",
     "output_type": "stream",
     "text": [
      "['mohit']\n"
     ]
    }
   ],
   "source": [
    "x=list(filter(lambda a:a==\"mohit\",[\"mohit\",\"rohit\",\"mannu\",\"monu\",\"aman\"]))\n",
    "print(x)"
   ]
  },
  {
   "cell_type": "code",
   "execution_count": 25,
   "id": "29d0df18",
   "metadata": {},
   "outputs": [
    {
     "name": "stdout",
     "output_type": "stream",
     "text": [
      "['mohit', 'mannu', 'monu']\n"
     ]
    }
   ],
   "source": [
    "x=list(filter(lambda a:a[0]==\"m\",[\"mohit\",\"rohit\",\"mannu\",\"monu\",\"aman\"]))\n",
    "print(x)"
   ]
  },
  {
   "cell_type": "code",
   "execution_count": 26,
   "id": "543b8a36",
   "metadata": {},
   "outputs": [
    {
     "name": "stdout",
     "output_type": "stream",
     "text": [
      "150\n"
     ]
    }
   ],
   "source": [
    "# reducer\n",
    "\n",
    "import functools\n",
    "x=functools.reduce(lambda a,b:a+b,[10,20,30,40,50])\n",
    "print(x)"
   ]
  },
  {
   "cell_type": "code",
   "execution_count": null,
   "id": "c3a92268",
   "metadata": {},
   "outputs": [],
   "source": []
  }
 ],
 "metadata": {
  "kernelspec": {
   "display_name": "Python 3",
   "language": "python",
   "name": "python3"
  },
  "language_info": {
   "codemirror_mode": {
    "name": "ipython",
    "version": 3
   },
   "file_extension": ".py",
   "mimetype": "text/x-python",
   "name": "python",
   "nbconvert_exporter": "python",
   "pygments_lexer": "ipython3",
   "version": "3.8.8"
  }
 },
 "nbformat": 4,
 "nbformat_minor": 5
}
