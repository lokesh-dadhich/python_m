{
 "cells": [
  {
   "cell_type": "code",
   "execution_count": 5,
   "id": "36f9f6e3",
   "metadata": {},
   "outputs": [],
   "source": [
    "#oops\n",
    "class House :\n",
    "    color=\"White\"\n",
    "    room=5"
   ]
  },
  {
   "cell_type": "code",
   "execution_count": 6,
   "id": "694d0dff",
   "metadata": {},
   "outputs": [
    {
     "name": "stdout",
     "output_type": "stream",
     "text": [
      "<__main__.House object at 0x000001B625294D90>\n"
     ]
    }
   ],
   "source": [
    "# object\n",
    "h1=House()\n",
    "type(h1)\n",
    "print(h1)"
   ]
  },
  {
   "cell_type": "code",
   "execution_count": 7,
   "id": "e00600c1",
   "metadata": {},
   "outputs": [
    {
     "name": "stdout",
     "output_type": "stream",
     "text": [
      "White 5\n"
     ]
    }
   ],
   "source": [
    "print(h1.color,h1.room)"
   ]
  },
  {
   "cell_type": "code",
   "execution_count": 8,
   "id": "7c850247",
   "metadata": {},
   "outputs": [
    {
     "name": "stdout",
     "output_type": "stream",
     "text": [
      "5\n"
     ]
    }
   ],
   "source": [
    "h2=House()\n",
    "print(h2.room)"
   ]
  },
  {
   "cell_type": "code",
   "execution_count": 9,
   "id": "03bb6881",
   "metadata": {},
   "outputs": [],
   "source": [
    "# all objects have different memory address"
   ]
  },
  {
   "cell_type": "code",
   "execution_count": 15,
   "id": "dfa5c1e3",
   "metadata": {},
   "outputs": [],
   "source": [
    "class House:\n",
    "    color =\"White\"  #----> Class house has 2 attributes\n",
    "    room=5\n",
    "    \n",
    "    def info(self): # ---> functionality of class House\n",
    "        print(\"House has characterstic:\", self.color,self.room)"
   ]
  },
  {
   "cell_type": "code",
   "execution_count": 16,
   "id": "0918931c",
   "metadata": {},
   "outputs": [
    {
     "name": "stdout",
     "output_type": "stream",
     "text": [
      "House has characterstic: White 5\n"
     ]
    }
   ],
   "source": [
    "hv1=House()\n",
    "hv1.info()"
   ]
  },
  {
   "cell_type": "code",
   "execution_count": 30,
   "id": "608e0200",
   "metadata": {},
   "outputs": [],
   "source": [
    "class House:\n",
    "    \n",
    "    \n",
    "    # class variables ---> class and object both can access these\n",
    "    color =\"White\" \n",
    "    room=5\n",
    "    \n",
    "    def info(self): \n",
    "        print(\"House has characterstic:\", self.color, self.room)"
   ]
  },
  {
   "cell_type": "code",
   "execution_count": 31,
   "id": "0b847da8",
   "metadata": {},
   "outputs": [
    {
     "data": {
      "text/plain": [
       "'White'"
      ]
     },
     "execution_count": 31,
     "metadata": {},
     "output_type": "execute_result"
    }
   ],
   "source": [
    "House.color"
   ]
  },
  {
   "cell_type": "code",
   "execution_count": 32,
   "id": "73b00bda",
   "metadata": {},
   "outputs": [
    {
     "data": {
      "text/plain": [
       "'Yellow'"
      ]
     },
     "execution_count": 32,
     "metadata": {},
     "output_type": "execute_result"
    }
   ],
   "source": [
    "h1.color"
   ]
  },
  {
   "cell_type": "code",
   "execution_count": 34,
   "id": "b6c62d7f",
   "metadata": {},
   "outputs": [
    {
     "name": "stdout",
     "output_type": "stream",
     "text": [
      "House has characterstic: Yellow 5\n"
     ]
    }
   ],
   "source": [
    "h1=House()\n",
    "h1.color=\"Yellow\"\n",
    "h1.info()"
   ]
  },
  {
   "cell_type": "code",
   "execution_count": 35,
   "id": "b3321a15",
   "metadata": {},
   "outputs": [],
   "source": [
    "# Constructor ---> function ----> helps to initalise a object \n",
    "#1 default\n",
    "#2 parametrize"
   ]
  },
  {
   "cell_type": "code",
   "execution_count": 42,
   "id": "85a8b31a",
   "metadata": {},
   "outputs": [
    {
     "name": "stdout",
     "output_type": "stream",
     "text": [
      "Hey <__main__.House object at 0x000001B6252EA910>\n",
      "<__main__.House object at 0x000001B6252EA910>\n"
     ]
    }
   ],
   "source": [
    "class House:\n",
    "    def __init__(self):  # default constructor\n",
    "        print(\"Hey\",self)\n",
    "        \n",
    "h1=House() \n",
    "print(h1)"
   ]
  },
  {
   "cell_type": "code",
   "execution_count": 43,
   "id": "97b82102",
   "metadata": {},
   "outputs": [
    {
     "name": "stdout",
     "output_type": "stream",
     "text": [
      "Hey <__main__.House object at 0x000001B6252EADC0>\n",
      "<__main__.House object at 0x000001B6252EADC0>\n"
     ]
    }
   ],
   "source": [
    "# house() is basically a constructor of a class\n",
    "# constructor is a function\n",
    "# function is __init__()\n",
    "# self is current object reference by default\n",
    "\n",
    "h2=House() \n",
    "print(h2)"
   ]
  },
  {
   "cell_type": "code",
   "execution_count": 40,
   "id": "01048701",
   "metadata": {},
   "outputs": [],
   "source": [
    "# self---> is a variable or parameter that holds the current object memory address\n"
   ]
  },
  {
   "cell_type": "code",
   "execution_count": 44,
   "id": "f52ab0fb",
   "metadata": {},
   "outputs": [
    {
     "name": "stdout",
     "output_type": "stream",
     "text": [
      "Hey <__main__.House object at 0x000001B6252EA9D0>\n",
      "<__main__.House object at 0x000001B6252EA9D0>\n"
     ]
    }
   ],
   "source": [
    "h2=House() \n",
    "print(h2)"
   ]
  },
  {
   "cell_type": "code",
   "execution_count": 45,
   "id": "f3422823",
   "metadata": {},
   "outputs": [
    {
     "ename": "TypeError",
     "evalue": "__init__() takes 1 positional argument but 2 were given",
     "output_type": "error",
     "traceback": [
      "\u001b[1;31m---------------------------------------------------------------------------\u001b[0m",
      "\u001b[1;31mTypeError\u001b[0m                                 Traceback (most recent call last)",
      "\u001b[1;32m<ipython-input-45-aa2d611b4094>\u001b[0m in \u001b[0;36m<module>\u001b[1;34m\u001b[0m\n\u001b[1;32m----> 1\u001b[1;33m \u001b[0mh2\u001b[0m\u001b[1;33m=\u001b[0m\u001b[0mHouse\u001b[0m\u001b[1;33m(\u001b[0m\u001b[1;34m\"Pink\"\u001b[0m\u001b[1;33m)\u001b[0m\u001b[1;33m\u001b[0m\u001b[1;33m\u001b[0m\u001b[0m\n\u001b[0m",
      "\u001b[1;31mTypeError\u001b[0m: __init__() takes 1 positional argument but 2 were given"
     ]
    }
   ],
   "source": [
    "h2=House(\"Pink\")"
   ]
  },
  {
   "cell_type": "code",
   "execution_count": 46,
   "id": "bbdc0a52",
   "metadata": {},
   "outputs": [],
   "source": [
    "class House:\n",
    "    def __init__(self,x):  \n",
    "        print(\"Hey\",x)"
   ]
  },
  {
   "cell_type": "code",
   "execution_count": 47,
   "id": "0e0a7a2f",
   "metadata": {},
   "outputs": [
    {
     "name": "stdout",
     "output_type": "stream",
     "text": [
      "Hey Pink\n"
     ]
    }
   ],
   "source": [
    "h1=House(\"Pink\")"
   ]
  },
  {
   "cell_type": "code",
   "execution_count": 48,
   "id": "cf36e1a2",
   "metadata": {},
   "outputs": [
    {
     "data": {
      "text/plain": [
       "'green'"
      ]
     },
     "execution_count": 48,
     "metadata": {},
     "output_type": "execute_result"
    }
   ],
   "source": [
    "class House:\n",
    "    def __init__(self,x):  \n",
    "        self.color=x\n",
    "        \n",
    "# object\n",
    "h2=House(\"green\")\n",
    "h2.color"
   ]
  },
  {
   "cell_type": "code",
   "execution_count": 50,
   "id": "d668a8de",
   "metadata": {},
   "outputs": [
    {
     "ename": "TypeError",
     "evalue": "__init__() missing 1 required positional argument: 'y'",
     "output_type": "error",
     "traceback": [
      "\u001b[1;31m---------------------------------------------------------------------------\u001b[0m",
      "\u001b[1;31mTypeError\u001b[0m                                 Traceback (most recent call last)",
      "\u001b[1;32m<ipython-input-50-09c7d175c1e2>\u001b[0m in \u001b[0;36m<module>\u001b[1;34m\u001b[0m\n\u001b[0;32m      5\u001b[0m \u001b[1;33m\u001b[0m\u001b[0m\n\u001b[0;32m      6\u001b[0m \u001b[1;31m#\u001b[0m\u001b[1;33m\u001b[0m\u001b[1;33m\u001b[0m\u001b[1;33m\u001b[0m\u001b[0m\n\u001b[1;32m----> 7\u001b[1;33m \u001b[0mh2\u001b[0m\u001b[1;33m=\u001b[0m\u001b[0mHouse\u001b[0m\u001b[1;33m(\u001b[0m\u001b[1;34m\"green\"\u001b[0m\u001b[1;33m)\u001b[0m\u001b[1;33m\u001b[0m\u001b[1;33m\u001b[0m\u001b[0m\n\u001b[0m\u001b[0;32m      8\u001b[0m \u001b[0mh2\u001b[0m\u001b[1;33m.\u001b[0m\u001b[0mroom\u001b[0m\u001b[1;33m\u001b[0m\u001b[1;33m\u001b[0m\u001b[0m\n",
      "\u001b[1;31mTypeError\u001b[0m: __init__() missing 1 required positional argument: 'y'"
     ]
    }
   ],
   "source": [
    "class House:\n",
    "    def __init__(self,x,y):\n",
    "        #variable related to class ---> instance variable\n",
    "        self.color=x\n",
    "        self.room=y\n",
    "        \n",
    "# object\n",
    "h2=House(\"green\")\n",
    "h2.room"
   ]
  },
  {
   "cell_type": "code",
   "execution_count": 51,
   "id": "221f7747",
   "metadata": {},
   "outputs": [
    {
     "data": {
      "text/plain": [
       "4"
      ]
     },
     "execution_count": 51,
     "metadata": {},
     "output_type": "execute_result"
    }
   ],
   "source": [
    "h2=House(\"green\",4)\n",
    "h2.room"
   ]
  },
  {
   "cell_type": "code",
   "execution_count": 53,
   "id": "0b516292",
   "metadata": {},
   "outputs": [
    {
     "name": "stdout",
     "output_type": "stream",
     "text": [
      "10 black\n"
     ]
    }
   ],
   "source": [
    "h2=House(\"black\",10)\n",
    "print(h2.room,h2.color)"
   ]
  },
  {
   "cell_type": "code",
   "execution_count": 54,
   "id": "638f5c47",
   "metadata": {},
   "outputs": [],
   "source": [
    "class House:\n",
    "    def __init__(self,color,room):\n",
    "        \n",
    "        self.color=color\n",
    "        self.room=room\n",
    "        "
   ]
  },
  {
   "cell_type": "code",
   "execution_count": 65,
   "id": "4abb38b3",
   "metadata": {},
   "outputs": [],
   "source": [
    "class Employee:\n",
    "    company=\"XYZ\"\n",
    "    def __init__(self,eid,ename,salary,email):\n",
    "        self.eid=eid\n",
    "        self.ename=ename\n",
    "        self.salary=salary\n",
    "        self.email=email\n",
    "        \n",
    "\n",
    "    def info(self):\n",
    "        y=self.email.split(\"@\")\n",
    "        return (self.ename,y[-1],self.salary)"
   ]
  },
  {
   "cell_type": "code",
   "execution_count": 66,
   "id": "efe69bb0",
   "metadata": {},
   "outputs": [
    {
     "data": {
      "text/plain": [
       "('Ram', 'gmail.com', '20000')"
      ]
     },
     "execution_count": 66,
     "metadata": {},
     "output_type": "execute_result"
    }
   ],
   "source": [
    "E1=Employee(100,\"Ram\",\"20000\",\"abc@gmail.com\")\n",
    "E1.info()"
   ]
  },
  {
   "cell_type": "code",
   "execution_count": null,
   "id": "2ae519c5",
   "metadata": {},
   "outputs": [],
   "source": [
    "# what is oops\n",
    "'''\n",
    "In Python object-oriented Programming (OOPs) is a programming paradigm that uses objects and classes in programming. \n",
    "It aims to implement real-world entities like inheritance, polymorphisms, encapsulation, etc. in the programming. \n",
    "The main concept of object-oriented Programming (OOPs) or oops concepts in Python is to bind the data and the functions that \n",
    "work together as a single unit so that no other part of the code can access this data.\n",
    "\n",
    "OOPs Concepts in Python\n",
    "-Class in Python\n",
    "-Objects in Python\n",
    "-Polymorphism in Python\n",
    "-Encapsulation in Python\n",
    "-Inheritance in Python\n",
    "-Data Abstraction in Python\n",
    "\n",
    "'''\n",
    "# encapsulation\n",
    "'''\n",
    "Encapsulation is one of the fundamental concepts in object-oriented programming (OOP). It describes the idea of wrapping data \n",
    "and the methods that work on data within one unit. \n",
    "This puts restrictions on accessing variables and methods directly and can prevent the accidental modification of data. \n",
    "To prevent accidental change, an object’s variable can only be changed by an object’s method. Those types of variables are known\n",
    "as private variables.A class is an example of encapsulation as it encapsulates all the data that is member functions, variables,\n",
    "etc. The goal of information hiding is to ensure that an object’s state is always valid by controlling access to attributes that\n",
    "are hidden from the outside world.\n",
    "'''\n",
    "# what is inheritance\n",
    "'''\n",
    "One of the core concepts in object-oriented programming (OOP) languages is inheritance. \n",
    "It is a mechanism that allows you to create a hierarchy of classes that share a set of properties and methods by deriving a\n",
    "class from another class. Inheritance is the capability of one class to derive or inherit the properties from another class. \n",
    "\n",
    "Benefits of inheritance are:\n",
    "\n",
    "Inheritance allows you to inherit the properties of a class, i.e., base class to another, i.e., derived class. \n",
    "The benefits of Inheritance in Python are as follows:\n",
    "\n",
    "-It represents real-world relationships well.\n",
    "-It provides the reusability of a code. We don’t have to write the same code again and again. \n",
    "Also, it allows us to add more features to a class without modifying it.\n",
    "-It is transitive in nature, which means that if class B inherits from another class A, then all the subclasses of B would\n",
    "automatically inherit from class A.\n",
    "-Inheritance offers a simple, understandable model structure. \n",
    "-Less development and maintenance expenses result from an inheritance. \n",
    "\n",
    "'''\n",
    "\n",
    "# polymorphism\n",
    "'''\n",
    "The word polymorphism means having many forms. In programming, polymorphism means the same function name \n",
    "(but different signatures) being used for different types. The key difference is the data types and number of arguments used \n",
    "in function\n",
    "'''\n",
    "# abstraction\n",
    "'''\n",
    "Data abstraction is one of the most essential concepts of Python OOPs which is used to hide irrelevant details from the user and\n",
    "show the details that are relevant to the users. For example, the readers of geeksforgeeks only know that a writer can write an \n",
    "article on geeksforgeeks, and when it gets published readers can read the articles but the reader is not aware of the background\n",
    "process of publishing the article.\n",
    "\n",
    "'''"
   ]
  }
 ],
 "metadata": {
  "kernelspec": {
   "display_name": "Python 3",
   "language": "python",
   "name": "python3"
  },
  "language_info": {
   "codemirror_mode": {
    "name": "ipython",
    "version": 3
   },
   "file_extension": ".py",
   "mimetype": "text/x-python",
   "name": "python",
   "nbconvert_exporter": "python",
   "pygments_lexer": "ipython3",
   "version": "3.8.8"
  }
 },
 "nbformat": 4,
 "nbformat_minor": 5
}
