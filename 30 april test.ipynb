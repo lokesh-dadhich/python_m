{
 "cells": [
  {
   "cell_type": "code",
   "execution_count": 2,
   "id": "5b707a8e-58f7-451a-b68d-a76a51ff01c2",
   "metadata": {},
   "outputs": [
    {
     "name": "stdin",
     "output_type": "stream",
     "text": [
      "Enter a number 12\n"
     ]
    },
    {
     "name": "stdout",
     "output_type": "stream",
     "text": [
      "12\n",
      "11\n",
      "10\n",
      "9\n",
      "8\n",
      "7\n",
      "6\n",
      "5\n",
      "4\n",
      "3\n",
      "2\n",
      "1\n"
     ]
    }
   ],
   "source": [
    "# Write a program to reverse an integer in Python.\n",
    "x=int(input(\"Enter a number\"))\n",
    "while(x>=1):\n",
    "    print(x)\n",
    "    x-=1"
   ]
  },
  {
   "cell_type": "code",
   "execution_count": 17,
   "id": "03cfd78c-bbba-4e8e-a975-03661468f719",
   "metadata": {},
   "outputs": [
    {
     "name": "stdin",
     "output_type": "stream",
     "text": [
      "Enter a number 153\n"
     ]
    },
    {
     "name": "stdout",
     "output_type": "stream",
     "text": [
      "153 is a armstrong\n"
     ]
    }
   ],
   "source": [
    "# Write a program in Python to check whether an integer is Armstrong number or not.\n",
    "num=int(input(\"Enter a number\"))\n",
    "a=num\n",
    "result=0\n",
    "while(a!=0):\n",
    "    rem = a % 10\n",
    "    result = result + rem * rem * rem\n",
    "    a //= 10\n",
    "if(result==num):\n",
    "    print(num,\"is a armstrong\")\n",
    "else:\n",
    "    print(num,\"is not a armstrong number\")\n",
    "    "
   ]
  },
  {
   "cell_type": "code",
   "execution_count": 27,
   "id": "16c88ec2-698a-4f72-ab85-f337b1350a09",
   "metadata": {},
   "outputs": [
    {
     "name": "stdout",
     "output_type": "stream",
     "text": [
      "prime number\n"
     ]
    }
   ],
   "source": [
    "# Write a program in Python to check given number is prime or not.\n",
    "n=5\n",
    "i=2\n",
    "while(n>=i):\n",
    "    if(n%i==0):\n",
    "        break\n",
    "    if(n-1==i):\n",
    "        print(\"prime number\")\n",
    "    i+=1"
   ]
  },
  {
   "cell_type": "code",
   "execution_count": 33,
   "id": "82fca750-54e8-4fe3-8777-db172dda2188",
   "metadata": {},
   "outputs": [
    {
     "name": "stdout",
     "output_type": "stream",
     "text": [
      "0 1\n",
      "1\n",
      "2\n",
      "3\n",
      "5\n",
      "8\n",
      "13\n"
     ]
    }
   ],
   "source": [
    "# Write a program in Python to print the Fibonacci series using iterative method.\n",
    "n1=0\n",
    "n2=1\n",
    "\n",
    "n=5\n",
    "print(n1,n2)\n",
    "for i in range(0,i+1):\n",
    "    n3=n1+n2\n",
    "    print(n3)\n",
    "    n1=n2\n",
    "    n2=n3"
   ]
  },
  {
   "cell_type": "code",
   "execution_count": 44,
   "id": "ab66ee00-4394-4647-9ae9-2dc491d32b2f",
   "metadata": {},
   "outputs": [
    {
     "name": "stdin",
     "output_type": "stream",
     "text": [
      "Enter a number 116\n"
     ]
    },
    {
     "name": "stdout",
     "output_type": "stream",
     "text": [
      "116 is not a palindrome number\n"
     ]
    }
   ],
   "source": [
    "# Write a program in Python to check whether a number is palindrome or not using iterative method.\n",
    "sum=0\n",
    "num=int(input(\"Enter a number\"))\n",
    "a=num\n",
    "while(num!=0):\n",
    "    rem=num%10\n",
    "    sum=sum*10+rem\n",
    "    num=num/10\n",
    "if(a==sum):\n",
    "    print(a,\"is a palindrome number\")\n",
    "else:\n",
    "    print(a,\"is not a palindrome number\")"
   ]
  },
  {
   "cell_type": "code",
   "execution_count": null,
   "id": "bdad198f-9b9d-4b37-ad1b-d224fe8f5d02",
   "metadata": {},
   "outputs": [],
   "source": []
  },
  {
   "cell_type": "code",
   "execution_count": null,
   "id": "5cd86f0e-ee62-43df-af3a-4f91444f284d",
   "metadata": {},
   "outputs": [],
   "source": [
    "# Write a program in Python to find given number is perfect or not?\n",
    "i=1\n",
    "sum=0\n",
    "num=int(input(\"Enter a number\"))\n",
    "while(i<num):\n",
    "    if(num%i==0):\n",
    "        sum+=i\n",
    "        i+1\n",
    "    if(sum==num):\n",
    "        print(num,\"is a perfect number\")\n",
    "    else:\n",
    "        print(num,\"is not a perfect number\")"
   ]
  },
  {
   "cell_type": "code",
   "execution_count": null,
   "id": "5a335295-ab49-4328-95bc-fa7fed6e5519",
   "metadata": {},
   "outputs": [],
   "source": []
  }
 ],
 "metadata": {
  "kernelspec": {
   "display_name": "Python 3 (ipykernel)",
   "language": "python",
   "name": "python3"
  },
  "language_info": {
   "codemirror_mode": {
    "name": "ipython",
    "version": 3
   },
   "file_extension": ".py",
   "mimetype": "text/x-python",
   "name": "python",
   "nbconvert_exporter": "python",
   "pygments_lexer": "ipython3",
   "version": "3.12.3"
  }
 },
 "nbformat": 4,
 "nbformat_minor": 5
}
