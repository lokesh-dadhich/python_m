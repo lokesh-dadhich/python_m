{
 "cells": [
  {
   "cell_type": "code",
   "execution_count": 6,
   "id": "21bf1610-12ec-4bda-bda6-d8b99604461d",
   "metadata": {},
   "outputs": [
    {
     "name": "stdout",
     "output_type": "stream",
     "text": [
      "hello lakshit\n"
     ]
    }
   ],
   "source": [
    "name=\"lakshit\"\n",
    "print(\"hello\",name)"
   ]
  },
  {
   "cell_type": "code",
   "execution_count": 10,
   "id": "514bfa80-0b5e-4d2f-8140-289f868d6847",
   "metadata": {},
   "outputs": [
    {
     "name": "stdin",
     "output_type": "stream",
     "text": [
      "enter value of a 23\n",
      "enter value of b 43\n"
     ]
    },
    {
     "name": "stdout",
     "output_type": "stream",
     "text": [
      "66\n",
      "positive number\n"
     ]
    }
   ],
   "source": [
    "a=int(input(\"enter value of a\"))\n",
    "b=int(input(\"enter value of b\"))\n",
    "c=a+b\n",
    "print(c)\n",
    "if(c>0):\n",
    "    print(\"positive number\")\n",
    "else:\n",
    "    print(\"negative number\")"
   ]
  },
  {
   "cell_type": "code",
   "execution_count": 13,
   "id": "58f4fe59-82d3-413f-b1e9-ac15717c8877",
   "metadata": {},
   "outputs": [
    {
     "name": "stdin",
     "output_type": "stream",
     "text": [
      "enter your password 19\n"
     ]
    },
    {
     "name": "stdout",
     "output_type": "stream",
     "text": [
      "correct\n"
     ]
    }
   ],
   "source": [
    "password=19\n",
    "enter_value=int(input(\"enter your password\"))\n",
    "if(password == enter_value):\n",
    "    print(\"correct\")\n",
    "else:\n",
    "    print(\"----ERROR---\")"
   ]
  },
  {
   "cell_type": "code",
   "execution_count": 17,
   "id": "c21815e6-43c2-439d-b4f4-e47ba7c85a5b",
   "metadata": {},
   "outputs": [
    {
     "name": "stdin",
     "output_type": "stream",
     "text": [
      "enter your first name lakshit\n",
      "enter your surname baletha\n"
     ]
    },
    {
     "name": "stdout",
     "output_type": "stream",
     "text": [
      "lakshit baletha\n"
     ]
    }
   ],
   "source": [
    "first_name=input(\"enter your first name\")\n",
    "last_name=input(\"enter your surname\")\n",
    "whole_name = first_name + ' '+ last_name\n",
    "print(whole_name)"
   ]
  },
  {
   "cell_type": "code",
   "execution_count": 24,
   "id": "6f357dcf-c701-4443-b914-46ccd70765a9",
   "metadata": {},
   "outputs": [
    {
     "name": "stdin",
     "output_type": "stream",
     "text": [
      "enter the string hey HELLO LAkshIT\n"
     ]
    },
    {
     "name": "stdout",
     "output_type": "stream",
     "text": [
      "HEY hello laKSHit\n"
     ]
    }
   ],
   "source": [
    "mystring = input(\"enter the string\")\n",
    "print(mystring.swapcase())"
   ]
  },
  {
   "cell_type": "code",
   "execution_count": 26,
   "id": "08b6ee9a-c5c5-4903-9e7c-30438cb8f094",
   "metadata": {},
   "outputs": [
    {
     "name": "stdout",
     "output_type": "stream",
     "text": [
      "21 720\n"
     ]
    }
   ],
   "source": [
    "list=[1,2,3,4,5,6]\n",
    "sum=0\n",
    "product=1\n",
    "for i in list:\n",
    "    sum+=i\n",
    "    product*=i\n",
    "print(sum,product)    "
   ]
  },
  {
   "cell_type": "code",
   "execution_count": 3,
   "id": "a2ee1465-02de-4374-b63b-b960e69594bb",
   "metadata": {},
   "outputs": [
    {
     "name": "stdin",
     "output_type": "stream",
     "text": [
      "enter the length of string 2\n",
      "enter the item devesh\n",
      "enter the item lakshit\n"
     ]
    },
    {
     "name": "stdout",
     "output_type": "stream",
     "text": [
      "['devesh', 'lakshit']\n"
     ]
    },
    {
     "name": "stdin",
     "output_type": "stream",
     "text": [
      "ente the value to check the item present or not in list devesh\n"
     ]
    },
    {
     "name": "stdout",
     "output_type": "stream",
     "text": [
      "present\n"
     ]
    }
   ],
   "source": [
    "num = int(input(\"enter the length of string\"))\n",
    "a = []\n",
    "for i in range(0,num):\n",
    "    item = input(\"enter the item\")\n",
    "    a.append(item)\n",
    "print(a)\n",
    "x = input(\"ente the value to check the item present or not in list\")\n",
    "for j in a:\n",
    "    if(x==j):\n",
    "        print(\"present\")\n",
    "        break\n",
    "    else:\n",
    "        print(\"not present\")\n",
    "        break"
   ]
  },
  {
   "cell_type": "code",
   "execution_count": 13,
   "id": "381045ea-4ffb-4b5c-9215-9e04a72afdd1",
   "metadata": {},
   "outputs": [
    {
     "name": "stdin",
     "output_type": "stream",
     "text": [
      " enter number of item 3\n",
      "enter the item 5\n",
      "enter the item 8\n",
      "enter the item 4\n"
     ]
    },
    {
     "name": "stdout",
     "output_type": "stream",
     "text": [
      "[5, 8, 4]\n",
      "*****\n",
      "********\n",
      "****\n",
      "\n"
     ]
    }
   ],
   "source": [
    "num = int(input(\" enter number of item\"))\n",
    "list=[]\n",
    "for i in range(0,num):\n",
    "    item = int(input(\"enter the item\"))\n",
    "    list.append(item)\n",
    "print(list)\n",
    "\n",
    "for j in list:\n",
    "    print(\"*\"*j)\n",
    "print()"
   ]
  },
  {
   "cell_type": "code",
   "execution_count": 37,
   "id": "c1a32e16-c07b-4108-96cd-7763a8dd3682",
   "metadata": {},
   "outputs": [
    {
     "name": "stdout",
     "output_type": "stream",
     "text": [
      "a. athletes who partcipate in 100 meter race \n",
      " ['vivak', 'john', 'kumar', 'rajesh', 'malar', 'vaihai']\n",
      "\n",
      "b. athletes who partcipate in 200 meter race\n",
      " ['vetry', 'petter', 'priyanka', 'kumar', 'malar']\n",
      "\n",
      "c. athletes who partcipate in both race\n",
      "kumar\n",
      "malar\n",
      "\n",
      "d. athletes prtcipate in one race\n",
      "vivak\n",
      "john\n",
      "kumar\n",
      "rajesh\n",
      "malar\n",
      "vaihai\n"
     ]
    }
   ],
   "source": [
    "hundred_meter = ['vivak','john','kumar','rajesh','malar','vaihai']\n",
    "two_hundred_meter = ['vetry','petter','priyanka','kumar','malar']\n",
    "# a. find the athletes who participated only in 100m race.\n",
    "print(\"a. athletes who partcipate in 100 meter race \\n\",hundred_meter)\n",
    "print()\n",
    "# b. Find the athletes who participated only in 200m race.\n",
    "print(\"b. athletes who partcipate in 200 meter race\\n\",two_hundred_meter)\n",
    "print()\n",
    "# c.  Find the athletes who participated both 100m and 200m race.\n",
    "both_race=[]\n",
    "print(\"c. athletes who partcipate in both race\")\n",
    "for i in hundred_meter:\n",
    "    for j in two_hundred_meter:\n",
    "        if(i==j):\n",
    "            print(i)\n",
    "            both_race.append(i)\n",
    "print()\n",
    "# d. Find the athletes who participated only one race\n",
    "single_race = []\n",
    "print(\"d. athletes prtcipate in one race\")\n",
    "for i in hundred_meter:\n",
    "    for j in two_hundred_meter:\n",
    "        if(i!=j):\n",
    "            print(i)\n",
    "            single_race.append(i)\n",
    "            break\n",
    "            "
   ]
  },
  {
   "cell_type": "code",
   "execution_count": null,
   "id": "9437c0d9-8a4d-46f3-8398-a96081b96031",
   "metadata": {},
   "outputs": [],
   "source": []
  }
 ],
 "metadata": {
  "kernelspec": {
   "display_name": "Python 3 (ipykernel)",
   "language": "python",
   "name": "python3"
  },
  "language_info": {
   "codemirror_mode": {
    "name": "ipython",
    "version": 3
   },
   "file_extension": ".py",
   "mimetype": "text/x-python",
   "name": "python",
   "nbconvert_exporter": "python",
   "pygments_lexer": "ipython3",
   "version": "3.10.11"
  }
 },
 "nbformat": 4,
 "nbformat_minor": 5
}
