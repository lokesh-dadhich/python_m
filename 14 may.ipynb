{
 "cells": [
  {
   "cell_type": "code",
   "execution_count": 1,
   "id": "2600b6a9-fd1f-48a3-a67a-496c3f62d4bf",
   "metadata": {},
   "outputs": [
    {
     "data": {
      "text/plain": [
       "'lokesh'"
      ]
     },
     "execution_count": 1,
     "metadata": {},
     "output_type": "execute_result"
    }
   ],
   "source": [
    "class driver:\n",
    "    company=\"regex\"\n",
    "    def __init__(self,id,name,email):\n",
    "        self.id=id\n",
    "        self.name=name\n",
    "        self.email=email\n",
    "\n",
    "    def dinfo(self):\n",
    "        print(f\"information is {self.id}&{self.name}\")\n",
    "\n",
    "class customer(driver):\n",
    "    def __init__(self,cid,cname,cemail):\n",
    "        super().__init__(cid,cname,cemail)\n",
    "\n",
    "    def cinfo(self):\n",
    "        super().dinfo()\n",
    "\n",
    "c1 =customer(99,\"lokesh\",\"lokesh@gmail.com\")\n",
    "c1.name"
   ]
  },
  {
   "cell_type": "code",
   "execution_count": 2,
   "id": "cc06df59-7d5d-4bf2-9150-aaf8b22bdf85",
   "metadata": {},
   "outputs": [
    {
     "data": {
      "text/plain": [
       "<bound method customer.cinfo of <__main__.customer object at 0x0000020A8EFA4450>>"
      ]
     },
     "execution_count": 2,
     "metadata": {},
     "output_type": "execute_result"
    }
   ],
   "source": [
    "c1.cinfo"
   ]
  },
  {
   "cell_type": "code",
   "execution_count": 5,
   "id": "ee4d7551-dc2e-4e6d-abee-63a0111283d4",
   "metadata": {},
   "outputs": [
    {
     "data": {
      "text/plain": [
       "100"
      ]
     },
     "execution_count": 5,
     "metadata": {},
     "output_type": "execute_result"
    }
   ],
   "source": [
    "#protected variable / method => inherited class can use it only\n",
    "#private variable => only inside tha class you can use it\n",
    "class vehicle:\n",
    "    _xyz=100\n",
    "\n",
    "v1=vehicle()\n",
    "v1._xyz"
   ]
  },
  {
   "cell_type": "code",
   "execution_count": 4,
   "id": "b1739781-5a6e-4766-9fc9-2e644861b17d",
   "metadata": {},
   "outputs": [],
   "source": [
    "#type of inheritence\n",
    "#mro (method resolution order)\n",
    "#what is privat protected default and public modifier"
   ]
  },
  {
   "cell_type": "code",
   "execution_count": 6,
   "id": "e3805e05-d125-4c89-adf1-4e9a15a2b0ef",
   "metadata": {},
   "outputs": [],
   "source": [
    "#program\n",
    "#tha time you create any object of a class\n",
    "# that variable should keep increasing"
   ]
  },
  {
   "cell_type": "code",
   "execution_count": null,
   "id": "cc99dd9a-2bd4-44e7-a4fc-8e8dfd34c6ce",
   "metadata": {},
   "outputs": [],
   "source": []
  }
 ],
 "metadata": {
  "kernelspec": {
   "display_name": "Python 3 (ipykernel)",
   "language": "python",
   "name": "python3"
  },
  "language_info": {
   "codemirror_mode": {
    "name": "ipython",
    "version": 3
   },
   "file_extension": ".py",
   "mimetype": "text/x-python",
   "name": "python",
   "nbconvert_exporter": "python",
   "pygments_lexer": "ipython3",
   "version": "3.11.7"
  }
 },
 "nbformat": 4,
 "nbformat_minor": 5
}
