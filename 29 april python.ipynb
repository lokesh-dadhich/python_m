{
 "cells": [
  {
   "cell_type": "code",
   "execution_count": 4,
   "id": "7d94bc91-2534-4d33-baa2-b4d9cf181dbc",
   "metadata": {},
   "outputs": [
    {
     "name": "stdout",
     "output_type": "stream",
     "text": [
      "{20, 30, 40, 10, (60, 70), 'yash'}\n"
     ]
    }
   ],
   "source": [
    "myset={10,20,30,40,\"yash\" , (60,70)}\n",
    "print(myset)"
   ]
  },
  {
   "cell_type": "code",
   "execution_count": 5,
   "id": "6707b727-d4a2-4f99-aaa4-905fb12bf90b",
   "metadata": {},
   "outputs": [
    {
     "data": {
      "text/plain": [
       "{(60, 70), 10, 20, 30, 40, 800, 'yash'}"
      ]
     },
     "execution_count": 5,
     "metadata": {},
     "output_type": "execute_result"
    }
   ],
   "source": [
    "myset.add(800)\n",
    "myset"
   ]
  },
  {
   "cell_type": "code",
   "execution_count": 6,
   "id": "c603658f-369a-4abf-b188-48695f2a8334",
   "metadata": {},
   "outputs": [
    {
     "data": {
      "text/plain": [
       "{(60, 70), 10, 20, 30, 40, 800, 's', 't', 'u', 'yash'}"
      ]
     },
     "execution_count": 6,
     "metadata": {},
     "output_type": "execute_result"
    }
   ],
   "source": [
    "myset.update(\"uts\")\n",
    "myset"
   ]
  },
  {
   "cell_type": "code",
   "execution_count": 7,
   "id": "05413b16-fd54-4edd-8c38-27e4500c2e16",
   "metadata": {},
   "outputs": [
    {
     "data": {
      "text/plain": [
       "{10, 20, 30, 40, 800, 's', 't', 'u', 'yash'}"
      ]
     },
     "execution_count": 7,
     "metadata": {},
     "output_type": "execute_result"
    }
   ],
   "source": [
    "myset.remove( (60, 70))\n",
    "myset"
   ]
  },
  {
   "cell_type": "code",
   "execution_count": 8,
   "id": "79eef84f-6ea7-43d1-99d0-048976c4f46e",
   "metadata": {},
   "outputs": [
    {
     "data": {
      "text/plain": [
       "'t'"
      ]
     },
     "execution_count": 8,
     "metadata": {},
     "output_type": "execute_result"
    }
   ],
   "source": [
    "myset.pop()"
   ]
  },
  {
   "cell_type": "code",
   "execution_count": 9,
   "id": "1262d6ff-6ba2-4728-ae06-67daac127c85",
   "metadata": {},
   "outputs": [
    {
     "data": {
      "text/plain": [
       "{20, 30, 40, 800, 's', 'u', 'yash'}"
      ]
     },
     "execution_count": 9,
     "metadata": {},
     "output_type": "execute_result"
    }
   ],
   "source": [
    "myset.discard(10)\n",
    "myset"
   ]
  },
  {
   "cell_type": "code",
   "execution_count": 10,
   "id": "dac1785e-0fb8-4a52-8848-345d4ac0b0d5",
   "metadata": {},
   "outputs": [
    {
     "data": {
      "text/plain": [
       "{10, 20, 30, 40, 50}"
      ]
     },
     "execution_count": 10,
     "metadata": {},
     "output_type": "execute_result"
    }
   ],
   "source": [
    "myset1 = {10,20,30}\n",
    "myset2 = {30,40,50}\n",
    "\n",
    "myset1.union(myset2)"
   ]
  },
  {
   "cell_type": "code",
   "execution_count": 11,
   "id": "10825c2d-674b-4091-9169-c6982b0281ed",
   "metadata": {},
   "outputs": [],
   "source": [
    "# \"hey this side lokesh hey\"\n",
    "# using set(hey this lokesh side\n",
    "\n"
   ]
  },
  {
   "cell_type": "code",
   "execution_count": null,
   "id": "a668dda6-70ae-4e33-990b-4f488a8e140e",
   "metadata": {},
   "outputs": [],
   "source": [
    "# \"[]{}() \" => bracket are correct\n",
    "# [ {} ()] => bracket are correct"
   ]
  }
 ],
 "metadata": {
  "kernelspec": {
   "display_name": "Python 3 (ipykernel)",
   "language": "python",
   "name": "python3"
  },
  "language_info": {
   "codemirror_mode": {
    "name": "ipython",
    "version": 3
   },
   "file_extension": ".py",
   "mimetype": "text/x-python",
   "name": "python",
   "nbconvert_exporter": "python",
   "pygments_lexer": "ipython3",
   "version": "3.11.7"
  }
 },
 "nbformat": 4,
 "nbformat_minor": 5
}
