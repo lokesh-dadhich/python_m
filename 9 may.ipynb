{
 "cells": [
  {
   "cell_type": "code",
   "execution_count": 1,
   "id": "656b70f1",
   "metadata": {},
   "outputs": [],
   "source": [
    "# exception handling\n",
    "# error----> terminate program\n",
    "# syntax error , exception : unwanted condition"
   ]
  },
  {
   "cell_type": "code",
   "execution_count": 2,
   "id": "0a3b376a",
   "metadata": {},
   "outputs": [],
   "source": [
    "# arithmetic error\n",
    "# indentation error\n",
    "# name error\n",
    "# exception error\n",
    "# type error \n",
    "# value error\n",
    "# zero division error"
   ]
  },
  {
   "cell_type": "code",
   "execution_count": 3,
   "id": "88eb2f21",
   "metadata": {},
   "outputs": [
    {
     "name": "stdout",
     "output_type": "stream",
     "text": [
      "hello\n"
     ]
    },
    {
     "ename": "ZeroDivisionError",
     "evalue": "division by zero",
     "output_type": "error",
     "traceback": [
      "\u001b[1;31m---------------------------------------------------------------------------\u001b[0m",
      "\u001b[1;31mZeroDivisionError\u001b[0m                         Traceback (most recent call last)",
      "\u001b[1;32m<ipython-input-3-ab9da14f18ef>\u001b[0m in \u001b[0;36m<module>\u001b[1;34m\u001b[0m\n\u001b[0;32m      1\u001b[0m \u001b[0mprint\u001b[0m\u001b[1;33m(\u001b[0m\u001b[1;34m\"hello\"\u001b[0m\u001b[1;33m)\u001b[0m\u001b[1;33m\u001b[0m\u001b[1;33m\u001b[0m\u001b[0m\n\u001b[0;32m      2\u001b[0m \u001b[0mx\u001b[0m\u001b[1;33m=\u001b[0m\u001b[1;36m10\u001b[0m\u001b[1;33m\u001b[0m\u001b[1;33m\u001b[0m\u001b[0m\n\u001b[1;32m----> 3\u001b[1;33m \u001b[1;36m10\u001b[0m\u001b[1;33m/\u001b[0m\u001b[1;36m0\u001b[0m\u001b[1;33m\u001b[0m\u001b[1;33m\u001b[0m\u001b[0m\n\u001b[0m\u001b[0;32m      4\u001b[0m \u001b[0mprint\u001b[0m\u001b[1;33m(\u001b[0m\u001b[1;34m\"tushar\"\u001b[0m\u001b[1;33m)\u001b[0m\u001b[1;33m\u001b[0m\u001b[1;33m\u001b[0m\u001b[0m\n",
      "\u001b[1;31mZeroDivisionError\u001b[0m: division by zero"
     ]
    }
   ],
   "source": [
    "print(\"hello\")\n",
    "x=10\n",
    "10/0\n",
    "print(\"tushar\")"
   ]
  },
  {
   "cell_type": "code",
   "execution_count": 4,
   "id": "37081d9c",
   "metadata": {},
   "outputs": [
    {
     "name": "stdout",
     "output_type": "stream",
     "text": [
      "hello\n",
      "error handled\n"
     ]
    }
   ],
   "source": [
    "try: #(code which give error)\n",
    "    print(\"hello\")\n",
    "    x=10\n",
    "    10/0\n",
    "    print(\"tushar\")\n",
    "except:#(if error occurs than handled through this way)\n",
    "    print(\"error handled\")  "
   ]
  },
  {
   "cell_type": "code",
   "execution_count": 7,
   "id": "90e3b5d2",
   "metadata": {},
   "outputs": [
    {
     "name": "stdout",
     "output_type": "stream",
     "text": [
      "hello\n"
     ]
    },
    {
     "ename": "NameError",
     "evalue": "name 'yy' is not defined",
     "output_type": "error",
     "traceback": [
      "\u001b[1;31m---------------------------------------------------------------------------\u001b[0m",
      "\u001b[1;31mNameError\u001b[0m                                 Traceback (most recent call last)",
      "\u001b[1;32m<ipython-input-7-9692ffd48ebe>\u001b[0m in \u001b[0;36m<module>\u001b[1;34m\u001b[0m\n\u001b[0;32m      2\u001b[0m     \u001b[0mprint\u001b[0m\u001b[1;33m(\u001b[0m\u001b[1;34m\"hello\"\u001b[0m\u001b[1;33m)\u001b[0m\u001b[1;33m\u001b[0m\u001b[1;33m\u001b[0m\u001b[0m\n\u001b[0;32m      3\u001b[0m     \u001b[0mx\u001b[0m\u001b[1;33m=\u001b[0m\u001b[1;36m10\u001b[0m\u001b[1;33m\u001b[0m\u001b[1;33m\u001b[0m\u001b[0m\n\u001b[1;32m----> 4\u001b[1;33m     \u001b[1;36m10\u001b[0m\u001b[1;33m/\u001b[0m\u001b[0myy\u001b[0m\u001b[1;33m\u001b[0m\u001b[1;33m\u001b[0m\u001b[0m\n\u001b[0m\u001b[0;32m      5\u001b[0m     \u001b[0mprint\u001b[0m\u001b[1;33m(\u001b[0m\u001b[1;34m\"tushar\"\u001b[0m\u001b[1;33m)\u001b[0m\u001b[1;33m\u001b[0m\u001b[1;33m\u001b[0m\u001b[0m\n\u001b[0;32m      6\u001b[0m \u001b[1;32mexcept\u001b[0m \u001b[0mZeroDivisionError\u001b[0m\u001b[1;33m:\u001b[0m\u001b[1;33m\u001b[0m\u001b[1;33m\u001b[0m\u001b[0m\n",
      "\u001b[1;31mNameError\u001b[0m: name 'yy' is not defined"
     ]
    }
   ],
   "source": [
    "try: #(code which give error)\n",
    "    print(\"hello\")\n",
    "    x=10\n",
    "    10/yy\n",
    "    print(\"tushar\")\n",
    "except ZeroDivisionError:  # only handle zero division error\n",
    "    print(\"error handled\")  "
   ]
  },
  {
   "cell_type": "code",
   "execution_count": 9,
   "id": "bd37c4bc",
   "metadata": {},
   "outputs": [
    {
     "name": "stdout",
     "output_type": "stream",
     "text": [
      "hello\n",
      "name error handled\n"
     ]
    }
   ],
   "source": [
    "try: #(code which give error)\n",
    "    print(\"hello\")\n",
    "    x=10\n",
    "    10/yy\n",
    "    print(\"tushar\")\n",
    "except ZeroDivisionError:  # only handle zero division error\n",
    "    print(\" Zero error handled\") \n",
    "except NameError:  # only handle name error\n",
    "    print(\"name error handled\")"
   ]
  },
  {
   "cell_type": "code",
   "execution_count": 13,
   "id": "3bde445e",
   "metadata": {},
   "outputs": [
    {
     "name": "stdout",
     "output_type": "stream",
     "text": [
      "hello\n",
      "error handled: name 'yy' is not defined\n"
     ]
    }
   ],
   "source": [
    "# defining two exceptions in 1 block \n",
    "\n",
    "try: #(code which give error)\n",
    "    print(\"hello\")\n",
    "    x=10\n",
    "    10/yy\n",
    "    print(\"tushar\")\n",
    "except (ZeroDivisionError,NameError) as e:  # handle zero division error and name error\n",
    "    print(\"error handled:\",e) \n"
   ]
  },
  {
   "cell_type": "code",
   "execution_count": 14,
   "id": "a09be6d0",
   "metadata": {},
   "outputs": [
    {
     "name": "stdout",
     "output_type": "stream",
     "text": [
      "hello\n"
     ]
    },
    {
     "ename": "IndexError",
     "evalue": "string index out of range",
     "output_type": "error",
     "traceback": [
      "\u001b[1;31m---------------------------------------------------------------------------\u001b[0m",
      "\u001b[1;31mIndexError\u001b[0m                                Traceback (most recent call last)",
      "\u001b[1;32m<ipython-input-14-0d77ce946178>\u001b[0m in \u001b[0;36m<module>\u001b[1;34m\u001b[0m\n\u001b[0;32m      4\u001b[0m     \u001b[1;36m10\u001b[0m\u001b[1;33m/\u001b[0m\u001b[1;36m1\u001b[0m\u001b[1;33m\u001b[0m\u001b[1;33m\u001b[0m\u001b[0m\n\u001b[0;32m      5\u001b[0m     \u001b[0mdata\u001b[0m\u001b[1;33m=\u001b[0m\u001b[1;34m\"abc\"\u001b[0m\u001b[1;33m\u001b[0m\u001b[1;33m\u001b[0m\u001b[0m\n\u001b[1;32m----> 6\u001b[1;33m     \u001b[0mdata\u001b[0m\u001b[1;33m[\u001b[0m\u001b[1;36m6\u001b[0m\u001b[1;33m]\u001b[0m\u001b[1;33m\u001b[0m\u001b[1;33m\u001b[0m\u001b[0m\n\u001b[0m\u001b[0;32m      7\u001b[0m     \u001b[0mprint\u001b[0m\u001b[1;33m(\u001b[0m\u001b[1;34m\"tushar\"\u001b[0m\u001b[1;33m)\u001b[0m\u001b[1;33m\u001b[0m\u001b[1;33m\u001b[0m\u001b[0m\n\u001b[0;32m      8\u001b[0m \u001b[1;32mexcept\u001b[0m \u001b[1;33m(\u001b[0m\u001b[0mZeroDivisionError\u001b[0m\u001b[1;33m,\u001b[0m\u001b[0mNameError\u001b[0m\u001b[1;33m)\u001b[0m \u001b[1;32mas\u001b[0m \u001b[0me\u001b[0m\u001b[1;33m:\u001b[0m\u001b[1;33m\u001b[0m\u001b[1;33m\u001b[0m\u001b[0m\n",
      "\u001b[1;31mIndexError\u001b[0m: string index out of range"
     ]
    }
   ],
   "source": [
    "try: \n",
    "    print(\"hello\")\n",
    "    x=10\n",
    "    10/1\n",
    "    data=\"abc\"\n",
    "    data[6]\n",
    "    print(\"tushar\")\n",
    "except (ZeroDivisionError,NameError) as e:  \n",
    "    print(\"error handled:\",e) "
   ]
  },
  {
   "cell_type": "code",
   "execution_count": 19,
   "id": "deb2679e",
   "metadata": {},
   "outputs": [
    {
     "name": "stdout",
     "output_type": "stream",
     "text": [
      "hello\n",
      "All errors are handled\n"
     ]
    }
   ],
   "source": [
    "try: \n",
    "    print(\"hello\")\n",
    "    x=10\n",
    "    10/1\n",
    "    data=\"abc\"\n",
    "    data[6]\n",
    "    print(\"tushar\")\n",
    "except (ZeroDivisionError,NameError) as e:  \n",
    "    print(\"error handled:\",e)\n",
    "except Exception:\n",
    "    print(\"All errors are handled\")"
   ]
  },
  {
   "cell_type": "code",
   "execution_count": 18,
   "id": "4bea734a",
   "metadata": {},
   "outputs": [
    {
     "name": "stdout",
     "output_type": "stream",
     "text": [
      "hello\n",
      "All errors are handled: string index out of range\n"
     ]
    }
   ],
   "source": [
    "try: \n",
    "    print(\"hello\")\n",
    "    x=10\n",
    "    10/1\n",
    "    data=\"abc\"\n",
    "    data[6]\n",
    "    print(\"tushar\")\n",
    "except (ZeroDivisionError,NameError) as e:  \n",
    "    print(\"error handled:\",e)\n",
    "except Exception as a:\n",
    "    print(\"All errors are handled:\",a)"
   ]
  },
  {
   "cell_type": "code",
   "execution_count": 16,
   "id": "744269d1",
   "metadata": {},
   "outputs": [
    {
     "name": "stdout",
     "output_type": "stream",
     "text": [
      "hello\n",
      "index error handled\n",
      "tushar\n"
     ]
    }
   ],
   "source": [
    "try: \n",
    "    print(\"hello\")\n",
    "    x=10\n",
    "    10/1\n",
    "    try:\n",
    "        data=\"abc\"\n",
    "        data[6]\n",
    "    except:\n",
    "        print(\"index error handled\")\n",
    "    print(\"tushar\")\n",
    "    \n",
    "except (ZeroDivisionError,NameError) as e:  \n",
    "    print(\"error handled:\",e)\n",
    "except Exception:\n",
    "    print(\"All errors are handled\")"
   ]
  },
  {
   "cell_type": "code",
   "execution_count": 20,
   "id": "52cfd370",
   "metadata": {},
   "outputs": [
    {
     "name": "stdout",
     "output_type": "stream",
     "text": [
      "hello\n",
      "tushar\n",
      "else block\n"
     ]
    }
   ],
   "source": [
    "try: \n",
    "    print(\"hello\")\n",
    "    x=10\n",
    "    10/1\n",
    "    print(\"tushar\")\n",
    "    \n",
    "except (ZeroDivisionError,NameError) as e:  \n",
    "    print(\"error handled:\",e)\n",
    "else:  # ---> if there is no error in try then else is executed\n",
    "    print(\"else block\")"
   ]
  },
  {
   "cell_type": "code",
   "execution_count": 21,
   "id": "4e376d66",
   "metadata": {},
   "outputs": [
    {
     "name": "stdout",
     "output_type": "stream",
     "text": [
      "hello\n",
      "tushar\n",
      "Finally block\n"
     ]
    }
   ],
   "source": [
    "try: \n",
    "    print(\"hello\")\n",
    "    x=10\n",
    "    10/1\n",
    "    print(\"tushar\")\n",
    "    \n",
    "except (ZeroDivisionError,NameError) as e:  \n",
    "    print(\"error handled:\",e)\n",
    "finally: #-----> this block will run always no matter is there any error or not\n",
    "    print(\"Finally block\")"
   ]
  },
  {
   "cell_type": "code",
   "execution_count": 22,
   "id": "95358a19",
   "metadata": {},
   "outputs": [
    {
     "name": "stdout",
     "output_type": "stream",
     "text": [
      "Eligible for voting\n"
     ]
    }
   ],
   "source": [
    "# generation of error\n",
    "age=19\n",
    "\n",
    "try:\n",
    "    if (age<18):\n",
    "        raise ValueError\n",
    "    else:\n",
    "        print(\"Eligible for voting\")\n",
    "except ValueError:\n",
    "    print(\"value error is handled \")\n"
   ]
  },
  {
   "cell_type": "code",
   "execution_count": 23,
   "id": "630d5d2a",
   "metadata": {},
   "outputs": [
    {
     "name": "stdout",
     "output_type": "stream",
     "text": [
      "value error is handled \n"
     ]
    }
   ],
   "source": [
    "age=12\n",
    "\n",
    "try:\n",
    "    if (age<18):\n",
    "        raise ValueError #----> raise keyword is used to raise the error\n",
    "    else:\n",
    "        print(\"Eligible for voting\")\n",
    "except ValueError:\n",
    "    print(\"value error is handled \")\n"
   ]
  },
  {
   "cell_type": "code",
   "execution_count": 24,
   "id": "23792437",
   "metadata": {},
   "outputs": [],
   "source": [
    "# lambda functions / anoynmous functions ---> functions jinka koi nam nhi h \n",
    "# oneline / inline functions \n",
    "# make code readable"
   ]
  },
  {
   "cell_type": "code",
   "execution_count": 25,
   "id": "e4b1d4d5",
   "metadata": {},
   "outputs": [
    {
     "data": {
      "text/plain": [
       "15"
      ]
     },
     "execution_count": 25,
     "metadata": {},
     "output_type": "execute_result"
    }
   ],
   "source": [
    "\n",
    "def func(x):\n",
    "    return x+5\n",
    "func(10)\n"
   ]
  },
  {
   "cell_type": "code",
   "execution_count": 26,
   "id": "347bb63c",
   "metadata": {},
   "outputs": [
    {
     "data": {
      "text/plain": [
       "20"
      ]
     },
     "execution_count": 26,
     "metadata": {},
     "output_type": "execute_result"
    }
   ],
   "source": [
    "# lambda parameter : expression\n",
    "\n",
    "out = lambda x :x+5\n",
    "\n",
    "out(15)"
   ]
  },
  {
   "cell_type": "code",
   "execution_count": 27,
   "id": "cdd729d8",
   "metadata": {},
   "outputs": [
    {
     "data": {
      "text/plain": [
       "15"
      ]
     },
     "execution_count": 27,
     "metadata": {},
     "output_type": "execute_result"
    }
   ],
   "source": [
    "(lambda x :x+5)(10)"
   ]
  },
  {
   "cell_type": "code",
   "execution_count": 28,
   "id": "0b60d5c2",
   "metadata": {},
   "outputs": [],
   "source": [
    "# map - filter -reduce ------> high ordr functions\n",
    "# takes another funtion as parameter\n"
   ]
  },
  {
   "cell_type": "code",
   "execution_count": 29,
   "id": "8e47b0ae",
   "metadata": {},
   "outputs": [],
   "source": [
    "# map => 1 value input at a time  function => return value "
   ]
  },
  {
   "cell_type": "code",
   "execution_count": 30,
   "id": "18aca8e1",
   "metadata": {},
   "outputs": [],
   "source": [
    "# map (function , iterable)\n"
   ]
  },
  {
   "cell_type": "code",
   "execution_count": 31,
   "id": "82afc0c4",
   "metadata": {},
   "outputs": [
    {
     "data": {
      "text/plain": [
       "<map at 0x1cfa6cd0820>"
      ]
     },
     "execution_count": 31,
     "metadata": {},
     "output_type": "execute_result"
    }
   ],
   "source": [
    "def addno(x):\n",
    "    return x+10\n",
    "\n",
    "mylist=[15,16,69,74]\n",
    "\n",
    "map( addno ,mylist)"
   ]
  },
  {
   "cell_type": "code",
   "execution_count": 32,
   "id": "5daabda6",
   "metadata": {},
   "outputs": [
    {
     "data": {
      "text/plain": [
       "[25, 26, 79, 84]"
      ]
     },
     "execution_count": 32,
     "metadata": {},
     "output_type": "execute_result"
    }
   ],
   "source": [
    "list(map( addno ,mylist))"
   ]
  },
  {
   "cell_type": "code",
   "execution_count": 33,
   "id": "d468d9e9",
   "metadata": {},
   "outputs": [
    {
     "name": "stdout",
     "output_type": "stream",
     "text": [
      "25\n",
      "26\n",
      "79\n",
      "84\n"
     ]
    },
    {
     "data": {
      "text/plain": [
       "[None, None, None, None]"
      ]
     },
     "execution_count": 33,
     "metadata": {},
     "output_type": "execute_result"
    }
   ],
   "source": [
    "def addno(x):\n",
    "    print( x+10)\n",
    "\n",
    "mylist=[15,16,69,74]\n",
    "\n",
    "list(map( addno ,mylist))"
   ]
  },
  {
   "cell_type": "code",
   "execution_count": 34,
   "id": "b3ae8aa2",
   "metadata": {},
   "outputs": [
    {
     "data": {
      "text/plain": [
       "[25, 26, 79, 84]"
      ]
     },
     "execution_count": 34,
     "metadata": {},
     "output_type": "execute_result"
    }
   ],
   "source": [
    "list(map(lambda x:x+10,mylist))"
   ]
  },
  {
   "cell_type": "code",
   "execution_count": 35,
   "id": "800e44bf",
   "metadata": {},
   "outputs": [
    {
     "ename": "AttributeError",
     "evalue": "'list' object has no attribute 'split'",
     "output_type": "error",
     "traceback": [
      "\u001b[1;31m---------------------------------------------------------------------------\u001b[0m",
      "\u001b[1;31mAttributeError\u001b[0m                            Traceback (most recent call last)",
      "\u001b[1;32m<ipython-input-35-a9d95a3d2be7>\u001b[0m in \u001b[0;36m<module>\u001b[1;34m\u001b[0m\n\u001b[0;32m      7\u001b[0m \u001b[1;31m#map(lambda x,x.split())\u001b[0m\u001b[1;33m\u001b[0m\u001b[1;33m\u001b[0m\u001b[1;33m\u001b[0m\u001b[0m\n\u001b[0;32m      8\u001b[0m \u001b[0my\u001b[0m\u001b[1;33m=\u001b[0m\u001b[1;33m[\u001b[0m\u001b[1;34m'10 tushar 200'\u001b[0m \u001b[1;33m,\u001b[0m \u001b[1;34m'20 aman 100'\u001b[0m \u001b[1;33m,\u001b[0m \u001b[1;34m'90 happy 700'\u001b[0m\u001b[1;33m]\u001b[0m\u001b[1;33m\u001b[0m\u001b[1;33m\u001b[0m\u001b[0m\n\u001b[1;32m----> 9\u001b[1;33m \u001b[0mfunc\u001b[0m\u001b[1;33m(\u001b[0m\u001b[0my\u001b[0m\u001b[1;33m)\u001b[0m\u001b[1;33m\u001b[0m\u001b[1;33m\u001b[0m\u001b[0m\n\u001b[0m",
      "\u001b[1;32m<ipython-input-35-a9d95a3d2be7>\u001b[0m in \u001b[0;36mfunc\u001b[1;34m(x)\u001b[0m\n\u001b[0;32m      3\u001b[0m \u001b[1;33m\u001b[0m\u001b[0m\n\u001b[0;32m      4\u001b[0m \u001b[1;32mdef\u001b[0m \u001b[0mfunc\u001b[0m\u001b[1;33m(\u001b[0m\u001b[0mx\u001b[0m\u001b[1;33m)\u001b[0m\u001b[1;33m:\u001b[0m\u001b[1;33m\u001b[0m\u001b[1;33m\u001b[0m\u001b[0m\n\u001b[1;32m----> 5\u001b[1;33m     \u001b[0mx\u001b[0m\u001b[1;33m=\u001b[0m\u001b[0mx\u001b[0m\u001b[1;33m.\u001b[0m\u001b[0msplit\u001b[0m\u001b[1;33m\u001b[0m\u001b[1;33m\u001b[0m\u001b[0m\n\u001b[0m\u001b[0;32m      6\u001b[0m     \u001b[0mprint\u001b[0m\u001b[1;33m(\u001b[0m\u001b[0mx\u001b[0m\u001b[1;33m)\u001b[0m\u001b[1;33m\u001b[0m\u001b[1;33m\u001b[0m\u001b[0m\n\u001b[0;32m      7\u001b[0m \u001b[1;31m#map(lambda x,x.split())\u001b[0m\u001b[1;33m\u001b[0m\u001b[1;33m\u001b[0m\u001b[1;33m\u001b[0m\u001b[0m\n",
      "\u001b[1;31mAttributeError\u001b[0m: 'list' object has no attribute 'split'"
     ]
    }
   ],
   "source": [
    "# ['10 tushar 200' , '20 aman 100' , '90 happy 700']\n",
    "# [(200,tushar),(100,aman),(700,happy)]\n",
    "\n",
    "def func(x):\n",
    "    \n",
    "    print(x)\n",
    "#map(lambda x,x.split())\n",
    "y=['10 tushar 200' , '20 aman 100' , '90 happy 700']\n",
    "func(y)"
   ]
  },
  {
   "cell_type": "code",
   "execution_count": 36,
   "id": "5c71abed",
   "metadata": {},
   "outputs": [
    {
     "data": {
      "text/plain": [
       "[('200', 'tushar'), ('100', 'aman'), ('700', 'happy')]"
      ]
     },
     "execution_count": 36,
     "metadata": {},
     "output_type": "execute_result"
    }
   ],
   "source": [
    "s=['10 tushar 200' , '20 aman 100' , '90 happy 700']\n",
    "def func(x):\n",
    "    y=x.split()\n",
    "    return (y[-1],y[-2])\n",
    "list(map(func,s))"
   ]
  },
  {
   "cell_type": "code",
   "execution_count": 38,
   "id": "7706e883",
   "metadata": {},
   "outputs": [
    {
     "data": {
      "text/plain": [
       "[('200', 'tushar'), ('100', 'aman'), ('700', 'happy')]"
      ]
     },
     "execution_count": 38,
     "metadata": {},
     "output_type": "execute_result"
    }
   ],
   "source": [
    "list(map(lambda x: (x.split()[2],x.split()[1]),s))"
   ]
  },
  {
   "cell_type": "code",
   "execution_count": null,
   "id": "26392426",
   "metadata": {},
   "outputs": [],
   "source": []
  }
 ],
 "metadata": {
  "kernelspec": {
   "display_name": "Python 3",
   "language": "python",
   "name": "python3"
  },
  "language_info": {
   "codemirror_mode": {
    "name": "ipython",
    "version": 3
   },
   "file_extension": ".py",
   "mimetype": "text/x-python",
   "name": "python",
   "nbconvert_exporter": "python",
   "pygments_lexer": "ipython3",
   "version": "3.8.8"
  }
 },
 "nbformat": 4,
 "nbformat_minor": 5
}
