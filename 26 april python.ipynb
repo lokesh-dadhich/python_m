{
 "cells": [
  {
   "cell_type": "code",
   "execution_count": 3,
   "id": "8bdd5ec3-9972-4fb7-95de-394251db5a3d",
   "metadata": {},
   "outputs": [
    {
     "name": "stdout",
     "output_type": "stream",
     "text": [
      "['hey', 'lokesh', 'hey'] <class 'list'>\n"
     ]
    }
   ],
   "source": [
    "data=\"hey lokesh hey\"\n",
    "\n",
    "x=data.split(\" \")\n",
    "print(x ,type(x))"
   ]
  },
  {
   "cell_type": "code",
   "execution_count": 4,
   "id": "da0c0c11-748c-432f-9488-14b2955f9694",
   "metadata": {},
   "outputs": [],
   "source": [
    "data=\"hey lokesh hey hello hey user user hey\"\n",
    "mylist=data.split()\n",
    "newlist=[]\n",
    "for i in mylist:\n",
    "    if(i not in newlist):\n",
    "        newlist.append(i)\n"
   ]
  },
  {
   "cell_type": "code",
   "execution_count": 5,
   "id": "b8dea0c0-96c8-4afd-9d67-b2eaa29b29e9",
   "metadata": {},
   "outputs": [],
   "source": [
    "#tuple\n",
    "#collection of multiple element\n",
    "#immutable\n",
    "#index position ()"
   ]
  },
  {
   "cell_type": "code",
   "execution_count": 6,
   "id": "82b4c118-2e16-46ea-8411-ad94be159ccc",
   "metadata": {},
   "outputs": [
    {
     "name": "stdout",
     "output_type": "stream",
     "text": [
      "<class 'int'>\n"
     ]
    }
   ],
   "source": [
    "mytuple=10\n",
    "print(type(mytuple))"
   ]
  },
  {
   "cell_type": "code",
   "execution_count": 7,
   "id": "bfc89b57-561e-40a9-99eb-371c58e84b67",
   "metadata": {},
   "outputs": [
    {
     "name": "stdout",
     "output_type": "stream",
     "text": [
      "<class 'tuple'>\n"
     ]
    }
   ],
   "source": [
    "mytuple=10 ,20\n",
    "print(type(mytuple))"
   ]
  },
  {
   "cell_type": "code",
   "execution_count": 8,
   "id": "dff02fca-24ab-45dd-a557-0ad8209c13b0",
   "metadata": {},
   "outputs": [
    {
     "name": "stdout",
     "output_type": "stream",
     "text": [
      "<class 'tuple'>\n"
     ]
    }
   ],
   "source": [
    "mytuple=10,\n",
    "print(type(mytuple))"
   ]
  },
  {
   "cell_type": "code",
   "execution_count": 9,
   "id": "a852a88e-1d52-426b-91f0-37b2d754b08d",
   "metadata": {},
   "outputs": [
    {
     "name": "stdout",
     "output_type": "stream",
     "text": [
      "<class 'tuple'>\n"
     ]
    }
   ],
   "source": [
    "mytuple=(10 ,20)\n",
    "print(type(mytuple))"
   ]
  },
  {
   "cell_type": "code",
   "execution_count": 11,
   "id": "a1e1f2b5-7d54-4ff1-9834-d52cb5c7ca71",
   "metadata": {},
   "outputs": [
    {
     "name": "stdout",
     "output_type": "stream",
     "text": [
      "<class 'tuple'>\n"
     ]
    }
   ],
   "source": [
    "mytuple=(10,20 , \"hey\" ,89)\n",
    "print(type(mytuple))"
   ]
  },
  {
   "cell_type": "code",
   "execution_count": 14,
   "id": "64154d5a-cdd5-4806-b572-63ad24593fed",
   "metadata": {},
   "outputs": [],
   "source": [
    "mytuple=mytuple+(60,50,40)"
   ]
  },
  {
   "cell_type": "code",
   "execution_count": 15,
   "id": "9f97459b-7082-4b6a-b9ac-2f7fd8fe58e0",
   "metadata": {},
   "outputs": [
    {
     "data": {
      "text/plain": [
       "(10, 20, 'hey', 89, 60, 50, 40)"
      ]
     },
     "execution_count": 15,
     "metadata": {},
     "output_type": "execute_result"
    }
   ],
   "source": [
    "mytuple"
   ]
  },
  {
   "cell_type": "code",
   "execution_count": 16,
   "id": "7d0d8db6-7777-47a4-9fc5-8ffc04282e66",
   "metadata": {},
   "outputs": [
    {
     "data": {
      "text/plain": [
       "2547839905664"
      ]
     },
     "execution_count": 16,
     "metadata": {},
     "output_type": "execute_result"
    }
   ],
   "source": [
    "#tuples are immutable\n",
    "id(mytuple)\n"
   ]
  },
  {
   "cell_type": "code",
   "execution_count": 17,
   "id": "31e46bbb-8a8f-40a0-811d-d054e85951a0",
   "metadata": {},
   "outputs": [],
   "source": [
    "#\"hey lokesh hey hello hello lokesh lokesh \"\n",
    "\n",
    "x=\"hey lokesh hey hello hello lokesh lokesh\"\n"
   ]
  },
  {
   "cell_type": "code",
   "execution_count": 20,
   "id": "4eec2673-2253-4733-a1db-8717f4a16c9d",
   "metadata": {},
   "outputs": [
    {
     "name": "stdout",
     "output_type": "stream",
     "text": [
      "armstrong number\n"
     ]
    }
   ],
   "source": [
    "#armstrong number\n",
    "#153 =>1**3 + 5**3 + 3**3 =>153\n",
    "x=153\n",
    "originalnum=x=0\n",
    "total=0\n",
    "while(x>0):\n",
    "    rem=x%10\n",
    "    total += rem**3\n",
    "\n",
    "    x=x//10\n",
    "\n",
    "if(total==originalnum):\n",
    "    print(\"armstrong number\")\n",
    "else:\n",
    "    (\"not\")"
   ]
  },
  {
   "cell_type": "code",
   "execution_count": null,
   "id": "9647b874-e16e-4a06-a21c-05a202941cfe",
   "metadata": {},
   "outputs": [],
   "source": [
    "# to find out whether a 4digit number is a arnstrong\n",
    "# to find out all the unuc word from a string no duplicacy\n",
    "#\"hay hello user lokesh lokesh hello\"\n",
    "#"
   ]
  }
 ],
 "metadata": {
  "kernelspec": {
   "display_name": "Python 3 (ipykernel)",
   "language": "python",
   "name": "python3"
  },
  "language_info": {
   "codemirror_mode": {
    "name": "ipython",
    "version": 3
   },
   "file_extension": ".py",
   "mimetype": "text/x-python",
   "name": "python",
   "nbconvert_exporter": "python",
   "pygments_lexer": "ipython3",
   "version": "3.11.7"
  }
 },
 "nbformat": 4,
 "nbformat_minor": 5
}
