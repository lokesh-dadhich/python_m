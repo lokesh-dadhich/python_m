{
 "cells": [
  {
   "cell_type": "code",
   "execution_count": 3,
   "id": "2fee5d82",
   "metadata": {},
   "outputs": [
    {
     "name": "stdout",
     "output_type": "stream",
     "text": [
      "[54, 56, 3, 7]\n",
      "4\n"
     ]
    }
   ],
   "source": [
    "\n",
    "\n",
    "\n",
    "nuns=[1,54,4,8,12,56,3,1,7,8,4,12]\n",
    "mylist=[]\n",
    "for i in nuns:\n",
    "    if nuns.count(i)<2:\n",
    "        mylist.append(i)\n",
    "print(mylist)\n",
    "print(len(mylist))\n"
   ]
  },
  {
   "cell_type": "code",
   "execution_count": 42,
   "id": "582d0f2e",
   "metadata": {},
   "outputs": [
    {
     "name": "stdout",
     "output_type": "stream",
     "text": [
      "['a']\n",
      "['b', 'a']\n",
      "['a', 'b']\n",
      "['c', 'b', 'a']\n",
      "['b', 'c', 'a']\n",
      "['b', 'a', 'c']\n",
      "['c', 'a', 'b']\n",
      "['a', 'c', 'b']\n",
      "['a', 'b', 'c']\n"
     ]
    }
   ],
   "source": [
    "\n",
    "#2. Write a program to generate all possible permutations of a given tuple of elements\n",
    "\n",
    "\n",
    "\n",
    "mytuple=('a','b','c')\n",
    "per=[[]]\n",
    "for element in mytuple:\n",
    "    temp=[]\n",
    "    for k in per:\n",
    "        \n",
    "        for i in range (len(k)+1):\n",
    "            temp.append(k[:i]+[element]+k[i:])\n",
    "            print(k[:i]+[element]+k[i:])\n",
    "    per=temp\n",
    "\n"
   ]
  },
  {
   "cell_type": "code",
   "execution_count": 47,
   "id": "cd9e7013",
   "metadata": {},
   "outputs": [
    {
     "name": "stdout",
     "output_type": "stream",
     "text": [
      "{(2, 4), (3, 4), (1, 5), (1, 4), (2, 6), (3, 6), (1, 6), (2, 5), (3, 5)}\n"
     ]
    },
    {
     "data": {
      "text/plain": [
       "9"
      ]
     },
     "execution_count": 47,
     "metadata": {},
     "output_type": "execute_result"
    }
   ],
   "source": [
    "\n",
    "#3. Implement a program to find the Cartesian product of two sets\n",
    "\n",
    "\n",
    "seta={1,2,3}\n",
    "setb={4,5,6}\n",
    "product=set({})\n",
    "for i in seta:\n",
    "    for j in setb:\n",
    "        product.add((i,j))\n",
    "\n",
    "print(product)\n",
    "len(product)"
   ]
  },
  {
   "cell_type": "code",
   "execution_count": 43,
   "id": "cfde4b3d",
   "metadata": {},
   "outputs": [
    {
     "name": "stdout",
     "output_type": "stream",
     "text": [
      "9\n",
      "3\n"
     ]
    }
   ],
   "source": [
    "\n",
    "#4. Implement a program to find the maximum and minimum elements in a tuple of integers\n",
    "\n",
    "\n",
    "mytuple=(5,3,4,5,7,8,9)\n",
    "max1=mytuple[0]\n",
    "min1=mytuple[0]\n",
    "\n",
    "for x in mytuple:\n",
    "    if x>max1:\n",
    "        max1=x\n",
    "    elif x<min1:\n",
    "        min1=x\n",
    "print(max1)\n",
    "print(min1)"
   ]
  },
  {
   "cell_type": "code",
   "execution_count": 43,
   "id": "2c455a5a",
   "metadata": {},
   "outputs": [
    {
     "name": "stdout",
     "output_type": "stream",
     "text": [
      "5\n"
     ]
    }
   ],
   "source": [
    "\n",
    "#5. Implement a program to find the median of a list of integers without using built-in median functions\n",
    "\n",
    "mylist=[1,5,8,2,9,7,4,5,6]\n",
    "mylist.sort()\n",
    "n=len(mylist)\n",
    "x=(n+1)//2\n",
    "print(mylist[x-1])\n"
   ]
  },
  {
   "cell_type": "code",
   "execution_count": 14,
   "id": "5ea361d5",
   "metadata": {},
   "outputs": [
    {
     "name": "stdout",
     "output_type": "stream",
     "text": [
      "(6, 8, 10, 12)\n"
     ]
    }
   ],
   "source": [
    "\n",
    "#6. Write a program to perform element-wise addition of two tuples of integers without using loops.\n",
    "\n",
    "tup1=(1,2,3,4)\n",
    "tup2=(5,6,7,8)\n",
    "tup3=()\n",
    "for i in range(len(tup1)):\n",
    "        tup3+=(tup1[i]+tup2[i],)\n",
    "print(tup3)"
   ]
  },
  {
   "cell_type": "code",
   "execution_count": 17,
   "id": "bd056bc4",
   "metadata": {},
   "outputs": [
    {
     "name": "stdout",
     "output_type": "stream",
     "text": [
      "Enter brackets: ()\n",
      "True\n"
     ]
    }
   ],
   "source": [
    "mydict={ \")\" : \"(\",\"]\" :\"[\" , \"}\" :\"{\"}\n",
    "mylist=[]\n",
    "a=input(\"Enter brackets: \")\n",
    "#a=\"([{]})\"\n",
    "\n",
    "for i in a:\n",
    "    if i in mydict.values():\n",
    "        mylist.append(i)\n",
    "    elif i in mydict.keys():\n",
    "        if mydict[i]!=mylist.pop():\n",
    "            print(False)\n",
    "        else:\n",
    "            print(True)\n",
    "    else:\n",
    "        print( True )\n"
   ]
  },
  {
   "cell_type": "code",
   "execution_count": null,
   "id": "21cb8057",
   "metadata": {},
   "outputs": [],
   "source": []
  }
 ],
 "metadata": {
  "kernelspec": {
   "display_name": "Python 3",
   "language": "python",
   "name": "python3"
  },
  "language_info": {
   "codemirror_mode": {
    "name": "ipython",
    "version": 3
   },
   "file_extension": ".py",
   "mimetype": "text/x-python",
   "name": "python",
   "nbconvert_exporter": "python",
   "pygments_lexer": "ipython3",
   "version": "3.8.8"
  }
 },
 "nbformat": 4,
 "nbformat_minor": 5
}
