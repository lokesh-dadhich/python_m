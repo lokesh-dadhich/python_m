{
 "cells": [
  {
   "cell_type": "code",
   "execution_count": 1,
   "id": "f6299ed2",
   "metadata": {},
   "outputs": [],
   "source": [
    "# functions\n",
    "# block of code\n"
   ]
  },
  {
   "cell_type": "code",
   "execution_count": 2,
   "id": "10fd6ffe",
   "metadata": {},
   "outputs": [],
   "source": [
    "def func():\n",
    "    print(\"hello\")"
   ]
  },
  {
   "cell_type": "code",
   "execution_count": 3,
   "id": "4731a6a0",
   "metadata": {},
   "outputs": [
    {
     "name": "stdout",
     "output_type": "stream",
     "text": [
      "hello\n",
      "hello\n",
      "hello\n"
     ]
    }
   ],
   "source": [
    "# function call \n",
    "func()\n",
    "func()\n",
    "func()"
   ]
  },
  {
   "cell_type": "code",
   "execution_count": 4,
   "id": "de7260d9",
   "metadata": {},
   "outputs": [
    {
     "name": "stdout",
     "output_type": "stream",
     "text": [
      "hello tushar\n"
     ]
    }
   ],
   "source": [
    "# parameter / formal parameter / informal argument\n",
    "def func(x):\n",
    "    print(\"hello\",x) # x is a local variable \n",
    "    \n",
    "func(\"tushar\")"
   ]
  },
  {
   "cell_type": "code",
   "execution_count": 5,
   "id": "8ba74531",
   "metadata": {},
   "outputs": [
    {
     "name": "stdout",
     "output_type": "stream",
     "text": [
      "hello aman\n"
     ]
    }
   ],
   "source": [
    "func(\"aman\")"
   ]
  },
  {
   "cell_type": "code",
   "execution_count": 6,
   "id": "f7244db3",
   "metadata": {},
   "outputs": [
    {
     "name": "stdout",
     "output_type": "stream",
     "text": [
      "30\n"
     ]
    }
   ],
   "source": [
    "def func(x,y):\n",
    "    print(x+y)\n",
    "    \n",
    "# argument / formal argument / informal parameter    \n",
    "func(10,20)"
   ]
  },
  {
   "cell_type": "code",
   "execution_count": 7,
   "id": "0ae0c248",
   "metadata": {},
   "outputs": [
    {
     "name": "stdout",
     "output_type": "stream",
     "text": [
      "30\n",
      "None\n"
     ]
    }
   ],
   "source": [
    "print(func(10,20))"
   ]
  },
  {
   "cell_type": "code",
   "execution_count": 8,
   "id": "649c8fad",
   "metadata": {},
   "outputs": [
    {
     "name": "stdout",
     "output_type": "stream",
     "text": [
      "30\n"
     ]
    }
   ],
   "source": [
    "def func(x,y):\n",
    "    return(x+y)\n",
    "\n",
    "print(func(10,20))"
   ]
  },
  {
   "cell_type": "code",
   "execution_count": 9,
   "id": "3787325b",
   "metadata": {},
   "outputs": [
    {
     "name": "stdout",
     "output_type": "stream",
     "text": [
      "18\n"
     ]
    }
   ],
   "source": [
    "def func(x,y):\n",
    "    return(x+y)\n",
    "out=func(5,13)\n",
    "print(out)"
   ]
  },
  {
   "cell_type": "code",
   "execution_count": 10,
   "id": "cc780ccd",
   "metadata": {},
   "outputs": [],
   "source": [
    "# python follows call by object reference\n"
   ]
  },
  {
   "cell_type": "code",
   "execution_count": 11,
   "id": "06c57afd",
   "metadata": {},
   "outputs": [],
   "source": [
    "def func(x):\n",
    "    print(x+10)"
   ]
  },
  {
   "cell_type": "code",
   "execution_count": 12,
   "id": "bed26baa",
   "metadata": {},
   "outputs": [
    {
     "name": "stdout",
     "output_type": "stream",
     "text": [
      "20\n",
      "10\n"
     ]
    }
   ],
   "source": [
    "x=10\n",
    "func(10)\n",
    "print(x)"
   ]
  },
  {
   "cell_type": "code",
   "execution_count": 13,
   "id": "b55ca728",
   "metadata": {},
   "outputs": [
    {
     "name": "stdout",
     "output_type": "stream",
     "text": [
      "20\n",
      "10\n"
     ]
    }
   ],
   "source": [
    "x=10\n",
    "func(x)\n",
    "print(x)"
   ]
  },
  {
   "cell_type": "code",
   "execution_count": 14,
   "id": "22e44d3e",
   "metadata": {},
   "outputs": [],
   "source": [
    "def func(x):\n",
    "    x=x+10\n",
    "    print(x)"
   ]
  },
  {
   "cell_type": "code",
   "execution_count": 15,
   "id": "f466c806",
   "metadata": {},
   "outputs": [
    {
     "name": "stdout",
     "output_type": "stream",
     "text": [
      "['tushar', 2, 3, 45, 6] 2369361504576\n",
      "['tushar', 2, 3, 45, 6] 2369361504576\n"
     ]
    }
   ],
   "source": [
    "# in mutable datattypes the changes done in function are reflected in original value\n",
    "\n",
    "def func(x):\n",
    "    x[0]=\"tushar\"\n",
    "    print(x,id(x))\n",
    "    \n",
    "list1=[1,2,3,45,6]\n",
    "func(list1)\n",
    "print(list1,id(list1))"
   ]
  },
  {
   "cell_type": "code",
   "execution_count": 16,
   "id": "06b1c9d1",
   "metadata": {},
   "outputs": [
    {
     "data": {
      "text/plain": [
       "'\\n*****\\n ***\\n  *\\n'"
      ]
     },
     "execution_count": 16,
     "metadata": {},
     "output_type": "execute_result"
    }
   ],
   "source": [
    "# create a function and find out the lcm of two numbers\n",
    "# create a function and find the prime number\n",
    "# create a function which takes 1 parameter as int and print following pattern\n",
    "'''\n",
    "*****\n",
    " ***\n",
    "  *\n",
    "'''"
   ]
  },
  {
   "cell_type": "code",
   "execution_count": 18,
   "id": "dbd31325",
   "metadata": {},
   "outputs": [
    {
     "name": "stdout",
     "output_type": "stream",
     "text": [
      "1\n",
      "2\n",
      "3\n"
     ]
    }
   ],
   "source": [
    "def prime(n):\n",
    "    for i in range(1,n):\n",
    "        flag=0\n",
    "        for j in range(2,i):\n",
    "            if i%j==0:\n",
    "                flag=1\n",
    "        if flag==0:\n",
    "            print(i)\n",
    "\n",
    "prime(5)"
   ]
  },
  {
   "cell_type": "code",
   "execution_count": 1,
   "id": "6d18bd28",
   "metadata": {},
   "outputs": [],
   "source": [
    "# create a function and find out the lcm of two numbers\n",
    "\n",
    "def lcm(n1,n2):\n",
    "    if n1>n2:\n",
    "        maxn=n1\n",
    "    elif n2>n1:\n",
    "        maxn=n2\n",
    "    \n",
    "    if maxn%n1==0 and maxn%n2==0:\n",
    "        print(\"lcm\",maxn)\n",
    "    \n",
    "    else:\n",
    "        i=maxn+1\n",
    "        while i>maxn:\n",
    "            if i%n1==0 and i%n2==0:\n",
    "                print(\"lcm\",i)\n",
    "                break\n",
    "            i+=1"
   ]
  },
  {
   "cell_type": "code",
   "execution_count": 2,
   "id": "ed1d12be",
   "metadata": {},
   "outputs": [
    {
     "name": "stdout",
     "output_type": "stream",
     "text": [
      "lcm 20\n"
     ]
    }
   ],
   "source": [
    "lcm(4,5)"
   ]
  },
  {
   "cell_type": "markdown",
   "id": "b197d0c3",
   "metadata": {},
   "source": []
  },
  {
   "cell_type": "code",
   "execution_count": 3,
   "id": "1b41d357",
   "metadata": {},
   "outputs": [
    {
     "name": "stdout",
     "output_type": "stream",
     "text": [
      "lcm 40\n"
     ]
    }
   ],
   "source": [
    "lcm(8,5)"
   ]
  },
  {
   "cell_type": "code",
   "execution_count": 4,
   "id": "14a7c38a",
   "metadata": {},
   "outputs": [
    {
     "name": "stdout",
     "output_type": "stream",
     "text": [
      "lcm 4\n"
     ]
    }
   ],
   "source": [
    "lcm(2,4)"
   ]
  },
  {
   "cell_type": "code",
   "execution_count": 41,
   "id": "b4f27b63",
   "metadata": {},
   "outputs": [
    {
     "name": "stdout",
     "output_type": "stream",
     "text": [
      "\n",
      "\n",
      "+ \n",
      " *  *  *  *  *  *  *  \n",
      "+ + \n",
      " *  *  *  *  *   *  *  *  *  *  \n",
      "+ + + \n",
      " *  *  *   *  *  *   *  *  *  \n",
      "+ + + + \n",
      " *   *   *   *  \n"
     ]
    }
   ],
   "source": [
    "# create a function which takes 1 parameter as int and print following pattern\n",
    "'''\n",
    "*****\n",
    " ***\n",
    "  *\n",
    "'''\n",
    "\n",
    "\n",
    "def pattern(x):\n",
    "    for i in range(x,0,-1):\n",
    "        for k in range(i,x):\n",
    "            print(\"+\",end=\" \")\n",
    "        print(\"\")\n",
    "        for j in range(x,i,-1):\n",
    "            print(\" * \"*(2*i-1),end=\" \")\n",
    "        print(\"\")\n",
    "        \n",
    "        \n",
    "        \n",
    "pattern(5)"
   ]
  },
  {
   "cell_type": "code",
   "execution_count": 19,
   "id": "9b9b7871",
   "metadata": {},
   "outputs": [
    {
     "name": "stdout",
     "output_type": "stream",
     "text": [
      "+ + + + +  \n",
      "+ + + + +  \n",
      "+ + + + +  \n",
      "+ + + + +  \n"
     ]
    }
   ],
   "source": [
    "for i in range(1,5):\n",
    "    for k in range(i,5):\n",
    "        print(\"+\",end=\" \")\n",
    "    for j in range(0,i):\n",
    "        print(\"+\",end=\" \")\n",
    "    print(\" \")"
   ]
  },
  {
   "cell_type": "code",
   "execution_count": 36,
   "id": "7ee74f54",
   "metadata": {},
   "outputs": [
    {
     "name": "stdout",
     "output_type": "stream",
     "text": [
      "*********\n",
      " *******\n",
      "  *****\n",
      "   ***\n",
      "    *\n"
     ]
    }
   ],
   "source": [
    "\n",
    "def pattern(x):\n",
    "    for i in range(x, 0, -1):\n",
    "        print(\" \" * (x - i) + \"*\" * (2 * i - 1))      \n",
    "        \n",
    "pattern(5)"
   ]
  },
  {
   "cell_type": "code",
   "execution_count": 44,
   "id": "b1eb4e0c",
   "metadata": {},
   "outputs": [
    {
     "name": "stdout",
     "output_type": "stream",
     "text": [
      " *   *   *   *  \n"
     ]
    }
   ],
   "source": [
    "x=5\n",
    "for j in range(x,1,-1):\n",
    "            print(\" * \",end=\" \")\n",
    "print(\"\")"
   ]
  },
  {
   "cell_type": "code",
   "execution_count": 86,
   "id": "5afe72d0",
   "metadata": {},
   "outputs": [
    {
     "name": "stdout",
     "output_type": "stream",
     "text": [
      "*********\n",
      " *******\n",
      "  *****\n",
      "   ***\n",
      "    *\n",
      "     \n",
      "      \n",
      "       \n",
      "        \n"
     ]
    }
   ],
   "source": [
    "def ptrn(x):\n",
    "    for i in range(1,x):\n",
    "        for j in range(1,i):\n",
    "            print(\" \", end=\"\")\n",
    "        for k in range(2*i-1,x):\n",
    "            print(\"*\", end=\"\")\n",
    "        print()\n",
    "ptrn(10)"
   ]
  },
  {
   "cell_type": "code",
   "execution_count": null,
   "id": "91a4b2cb",
   "metadata": {},
   "outputs": [],
   "source": []
  }
 ],
 "metadata": {
  "kernelspec": {
   "display_name": "Python 3",
   "language": "python",
   "name": "python3"
  },
  "language_info": {
   "codemirror_mode": {
    "name": "ipython",
    "version": 3
   },
   "file_extension": ".py",
   "mimetype": "text/x-python",
   "name": "python",
   "nbconvert_exporter": "python",
   "pygments_lexer": "ipython3",
   "version": "3.8.8"
  }
 },
 "nbformat": 4,
 "nbformat_minor": 5
}
