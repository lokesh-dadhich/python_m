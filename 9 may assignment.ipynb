{
 "cells": [
  {
   "cell_type": "code",
   "execution_count": 5,
   "id": "ec60a469",
   "metadata": {},
   "outputs": [
    {
     "name": "stdout",
     "output_type": "stream",
     "text": [
      "Enter the number of elements you want in series:8\n",
      "0\n",
      "1\n",
      "1\n",
      "2\n",
      "3\n",
      "5\n",
      "8\n",
      "13\n",
      "21\n",
      "34\n"
     ]
    }
   ],
   "source": [
    "'''\n",
    "4. Write a program in Python to print the Fibonacci series using recursive\n",
    "method.\n",
    "'''\n",
    "\n",
    "\n",
    "x=int(input(\"Enter the number of elements you want in series:\"))\n",
    "\n",
    "n1=0\n",
    "n2=1\n",
    "s=0\n",
    "print(n1,n2,sep=\"\\n\")\n",
    "for i in range(0,x):\n",
    "    n3=n1+n2\n",
    "    print(n3)\n",
    "    n1=n2\n",
    "    n2=n3\n"
   ]
  },
  {
   "cell_type": "code",
   "execution_count": 8,
   "id": "a7832b08",
   "metadata": {},
   "outputs": [
    {
     "name": "stdout",
     "output_type": "stream",
     "text": [
      "enter string: ababababbaaaaaaaaaa\n",
      "enter charactera\n",
      "14\n"
     ]
    }
   ],
   "source": [
    "'''\n",
    "5. Counting the Number of Occurrences of a Character in a String without\n",
    "using count function\n",
    "'''\n",
    "\n",
    "s=input(\"enter string: \")\n",
    "c=input(\"enter character\")\n",
    "count=0\n",
    "for i in s:\n",
    "    if c==i:\n",
    "        count+=1\n",
    "print(count)\n",
    "    "
   ]
  },
  {
   "cell_type": "code",
   "execution_count": 28,
   "id": "acbe12fb",
   "metadata": {},
   "outputs": [],
   "source": [
    "'''\n",
    "6. Write a Python function that takes a tuple of strings as input and returns a\n",
    "new tuple with each word capitalized.\n",
    "\n",
    "'''\n",
    "\n",
    "def func(x):\n",
    "    y=x.upper()\n",
    "    return y\n"
   ]
  },
  {
   "cell_type": "code",
   "execution_count": 27,
   "id": "92695675",
   "metadata": {},
   "outputs": [
    {
     "data": {
      "text/plain": [
       "('ASDF', 'ASDH', 'ERTYU')"
      ]
     },
     "execution_count": 27,
     "metadata": {},
     "output_type": "execute_result"
    }
   ],
   "source": [
    "tuple(map(func,s))"
   ]
  },
  {
   "cell_type": "code",
   "execution_count": 25,
   "id": "f5ced07b",
   "metadata": {},
   "outputs": [
    {
     "name": "stdout",
     "output_type": "stream",
     "text": [
      "('ASDF', 'ASDH', 'ERTYU')\n"
     ]
    }
   ],
   "source": [
    "print(tuple(map(lambda x:x.upper(),s)))"
   ]
  },
  {
   "cell_type": "code",
   "execution_count": 30,
   "id": "cfb3d7a2",
   "metadata": {},
   "outputs": [
    {
     "name": "stdout",
     "output_type": "stream",
     "text": [
      "Enter a number: 12\n",
      "Enter a number: 90\n",
      "Enter a number: 89\n",
      "Maximum is: 90\n"
     ]
    }
   ],
   "source": [
    "'''\n",
    "7. Write a program to find a maximum of three numbers. Without using\n",
    "max , sort function and indexing\n",
    "\n",
    "'''\n",
    "\n",
    "a=int(input(\"Enter a number: \"))\n",
    "b=int(input(\"Enter a number: \"))\n",
    "c=int(input(\"Enter a number: \"))\n",
    "\n",
    "if a>b and a>c:\n",
    "    print(\"Maximum is:\",a)\n",
    "elif b>a and b>c:\n",
    "    print(\"Maximum is:\",b)\n",
    "else:\n",
    "    print(\"Maximum is:\",c)\n"
   ]
  },
  {
   "cell_type": "code",
   "execution_count": 37,
   "id": "d976b47a",
   "metadata": {},
   "outputs": [
    {
     "name": "stdout",
     "output_type": "stream",
     "text": [
      "A \n",
      "1 2 \n",
      "A B C \n",
      "1 2 3 4 \n",
      "A B C D E \n"
     ]
    }
   ],
   "source": [
    "# 8. Write a python program for print the following pattern\n",
    "\n",
    "\n",
    "for i in range(1,6):\n",
    "    x=1\n",
    "    for j in range(0,i):\n",
    "        if i%2==0:\n",
    "            print(x,end=\" \")\n",
    "            x+=1\n",
    "        else:\n",
    "            print(chr(64+x),end=\" \")\n",
    "            x+=1\n",
    "    print(\"\")"
   ]
  },
  {
   "cell_type": "code",
   "execution_count": 42,
   "id": "571c9a04",
   "metadata": {},
   "outputs": [
    {
     "name": "stdout",
     "output_type": "stream",
     "text": [
      "1 A \n",
      "4 B 9 C \n",
      "16 D 25 E 36 F \n",
      "49 G 64 H 81 I 100 J \n"
     ]
    }
   ],
   "source": [
    "# 9. Write a python program for print the following pattern\n",
    "\n",
    "x=1\n",
    "y=1\n",
    "for i in range(1,5):\n",
    "    for j in range(0,i):\n",
    "        print(y**2,chr(64+x),end=\" \")\n",
    "        x+=1\n",
    "        y+=1\n",
    "        \n",
    "    print(\"\")\n"
   ]
  },
  {
   "cell_type": "code",
   "execution_count": 48,
   "id": "b7b5f79a",
   "metadata": {},
   "outputs": [
    {
     "name": "stdout",
     "output_type": "stream",
     "text": [
      "* * * * * \n",
      "  * * * * \n",
      "    * * * \n",
      "      * * \n",
      "        * \n",
      "        * \n",
      "      * * \n",
      "    * * * \n",
      "  * * * * \n",
      "* * * * * \n"
     ]
    }
   ],
   "source": [
    "# 10.Write a python program for print the following pattern\n",
    "\n",
    "for i in range(0,5):\n",
    "    for j in range(0,i):\n",
    "        print(\" \",end=\" \")\n",
    "    for k in range(i,5):\n",
    "        print(\"*\",end=\" \")\n",
    "    print(\"\")  \n",
    "\n",
    "for i in range(1,6):\n",
    "    for j in range(i,5):\n",
    "        print(\" \",end=\" \")\n",
    "    for k in range(0,i):\n",
    "        print(\"*\",end=\" \")\n",
    "    print(\"\")"
   ]
  },
  {
   "cell_type": "code",
   "execution_count": null,
   "id": "d7f344b8",
   "metadata": {},
   "outputs": [],
   "source": []
  }
 ],
 "metadata": {
  "kernelspec": {
   "display_name": "Python 3",
   "language": "python",
   "name": "python3"
  },
  "language_info": {
   "codemirror_mode": {
    "name": "ipython",
    "version": 3
   },
   "file_extension": ".py",
   "mimetype": "text/x-python",
   "name": "python",
   "nbconvert_exporter": "python",
   "pygments_lexer": "ipython3",
   "version": "3.8.8"
  }
 },
 "nbformat": 4,
 "nbformat_minor": 5
}
