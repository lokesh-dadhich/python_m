{
 "cells": [
  {
   "cell_type": "code",
   "execution_count": 1,
   "id": "f73241ef-15cb-4336-865b-166f84bd28e3",
   "metadata": {},
   "outputs": [
    {
     "name": "stdin",
     "output_type": "stream",
     "text": [
      "Enter a number 116\n"
     ]
    },
    {
     "name": "stdout",
     "output_type": "stream",
     "text": [
      "116 is not a palindrome number\n"
     ]
    }
   ],
   "source": [
    "# Write a program in Python to check whether a number is palindrome or not \n",
    "sum=0\n",
    "num=int(input(\"Enter a number\"))\n",
    "a=num\n",
    "while(num!=0):\n",
    "    rem=num%10\n",
    "    sum=sum*10+rem\n",
    "    num=num/10\n",
    "if(a==sum):\n",
    "    print(a,\"is a palindrome number\")\n",
    "else:\n",
    "    print(a,\"is not a palindrome number\")"
   ]
  },
  {
   "cell_type": "code",
   "execution_count": 1,
   "id": "f76ead17-2d5b-45e6-8112-7ef144431cf5",
   "metadata": {},
   "outputs": [
    {
     "name": "stdin",
     "output_type": "stream",
     "text": [
      "Enter a number 4\n"
     ]
    },
    {
     "name": "stdout",
     "output_type": "stream",
     "text": [
      "4 is not a perfect number\n"
     ]
    }
   ],
   "source": [
    "# Write a program in Python to find given number is perfect or not?\n",
    "i=1\n",
    "sum=0\n",
    "num=int(input(\"Enter a number\"))\n",
    "while(i<num):\n",
    "    if(num%i==0):\n",
    "        sum+=i\n",
    "        i+1\n",
    "    if(sum==num):\n",
    "        print(num,\"is a perfect number\")\n",
    "    else:\n",
    "        print(num,\"is not a perfect number\")\n",
    "        break"
   ]
  },
  {
   "cell_type": "code",
   "execution_count": 4,
   "id": "3cce2bb8-9497-4c4e-8882-1927ec3fbc90",
   "metadata": {},
   "outputs": [
    {
     "name": "stdout",
     "output_type": "stream",
     "text": [
      "0\n",
      "1\n",
      "1\n",
      "2\n",
      "3\n",
      "5\n",
      "8\n",
      "13\n"
     ]
    }
   ],
   "source": [
    "# Write a program in Python to print the Fibonacci series using iterative method.\n",
    "n1=0\n",
    "n2=1\n",
    "\n",
    "n=5\n",
    "print(n1,n2,sep=\"\\n\")\n",
    "for i in range(0,n+1):\n",
    "    n3=n1+n2\n",
    "    print(n3)\n",
    "    n1=n2\n",
    "    n2=n3"
   ]
  },
  {
   "cell_type": "code",
   "execution_count": 5,
   "id": "cc2e81b1-dd81-4800-a6d6-12f107499fb4",
   "metadata": {},
   "outputs": [
    {
     "name": "stdout",
     "output_type": "stream",
     "text": [
      "prime number\n"
     ]
    }
   ],
   "source": [
    "# Write a program in Python to check given number is prime or not.\n",
    "n=5\n",
    "i=2\n",
    "while(n>=i):\n",
    "    if(n%i==0):\n",
    "        break\n",
    "    if(n-1==i):\n",
    "        print(\"prime number\")\n",
    "    i+=1"
   ]
  },
  {
   "cell_type": "code",
   "execution_count": 6,
   "id": "406b35f7-7021-42bd-b805-0cf8b1880867",
   "metadata": {},
   "outputs": [
    {
     "name": "stdin",
     "output_type": "stream",
     "text": [
      "Enter a number 153\n"
     ]
    },
    {
     "name": "stdout",
     "output_type": "stream",
     "text": [
      "153 is a armstrong\n"
     ]
    }
   ],
   "source": [
    "# Write a program in Python to check whether an integer is Armstrong number or not.\n",
    "num=int(input(\"Enter a number\"))\n",
    "a=num\n",
    "result=0\n",
    "while(a!=0):\n",
    "    rem = a % 10\n",
    "    result +=  rem * rem * rem\n",
    "    a //= 10\n",
    "if(result==num):\n",
    "    print(num,\"is a armstrong\")\n",
    "else:\n",
    "    print(num,\"is not a armstrong number\")\n",
    "    "
   ]
  },
  {
   "cell_type": "code",
   "execution_count": null,
   "id": "5f22330a-a2f4-46d0-a4a3-00e76e885d62",
   "metadata": {},
   "outputs": [],
   "source": []
  }
 ],
 "metadata": {
  "kernelspec": {
   "display_name": "Python 3 (ipykernel)",
   "language": "python",
   "name": "python3"
  },
  "language_info": {
   "codemirror_mode": {
    "name": "ipython",
    "version": 3
   },
   "file_extension": ".py",
   "mimetype": "text/x-python",
   "name": "python",
   "nbconvert_exporter": "python",
   "pygments_lexer": "ipython3",
   "version": "3.11.7"
  }
 },
 "nbformat": 4,
 "nbformat_minor": 5
}
