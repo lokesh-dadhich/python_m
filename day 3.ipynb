{
 "cells": [
  {
   "cell_type": "code",
   "execution_count": 9,
   "id": "d9e95a05-bc45-4691-8821-d0660521d217",
   "metadata": {},
   "outputs": [
    {
     "name": "stdin",
     "output_type": "stream",
     "text": [
      "enter the number 9\n"
     ]
    },
    {
     "name": "stdout",
     "output_type": "stream",
     "text": [
      "not match\n"
     ]
    }
   ],
   "source": [
    "x=int(input(\"enter the number\"))\n",
    "if(x==1):\n",
    "    print(\"sunday\")\n",
    "elif(x==2):\n",
    "    print(\"monday\")\n",
    "elif(x==3):\n",
    "    print(\"tuesady\")\n",
    "elif(x==4):\n",
    "    print(\"wednesday\")\n",
    "elif(x==5):\n",
    "    print(\"thursday\")\n",
    "elif(x==6):\n",
    "    print(\"friday\")\n",
    "elif(x==7):\n",
    "    print(\"saturday\")\n",
    "else:\n",
    "    print(\"not match\")"
   ]
  },
  {
   "cell_type": "code",
   "execution_count": 8,
   "id": "e4cbaecc-7c79-4e44-bae6-42f162da1b26",
   "metadata": {},
   "outputs": [
    {
     "name": "stdin",
     "output_type": "stream",
     "text": [
      "enter the number 15\n"
     ]
    },
    {
     "name": "stdout",
     "output_type": "stream",
     "text": [
      "not match\n"
     ]
    }
   ],
   "source": [
    "x=int(input(\"enter the number\"))\n",
    "if(x==1):\n",
    "    print(\"january\")\n",
    "elif(x==2):\n",
    "    print(\"february\")\n",
    "elif(x==3):\n",
    "    print(\"march\")\n",
    "elif(x==4):\n",
    "    print(\"april\")\n",
    "elif(x==5):\n",
    "    print(\"may\")\n",
    "elif(x==6):\n",
    "    print(\"june\")\n",
    "elif(x==7):\n",
    "    print(\"july\")\n",
    "elif(x==8):\n",
    "    print(\"august\")\n",
    "elif(x==9):\n",
    "    print(\"september\")\n",
    "elif(x==10):\n",
    "    print(\"october\")\n",
    "elif(x==11):\n",
    "    print(\"november\")\n",
    "elif(x==12):\n",
    "    print(\"december\")\n",
    "else:\n",
    "    print(\"not match\")"
   ]
  },
  {
   "cell_type": "code",
   "execution_count": 12,
   "id": "d1697a59-f393-4da4-aa69-2075fd880085",
   "metadata": {},
   "outputs": [
    {
     "name": "stdin",
     "output_type": "stream",
     "text": [
      "enter the number 958\n"
     ]
    },
    {
     "name": "stdout",
     "output_type": "stream",
     "text": [
      "excellent\n"
     ]
    }
   ],
   "source": [
    "x=int(input(\"enter the number\"))\n",
    "if(x<60):\n",
    "    print(\"fail\")\n",
    "elif(x>60 and x<80):\n",
    "    print(\"average\")\n",
    "elif(x>80 and x<90):\n",
    "    print(\"good\")\n",
    "elif(x>90):\n",
    "    print(\"excellent\")"
   ]
  },
  {
   "cell_type": "code",
   "execution_count": null,
   "id": "7174f7a5-5b69-4eee-be53-6ddc9bc94d79",
   "metadata": {},
   "outputs": [],
   "source": []
  }
 ],
 "metadata": {
  "kernelspec": {
   "display_name": "Python 3 (ipykernel)",
   "language": "python",
   "name": "python3"
  },
  "language_info": {
   "codemirror_mode": {
    "name": "ipython",
    "version": 3
   },
   "file_extension": ".py",
   "mimetype": "text/x-python",
   "name": "python",
   "nbconvert_exporter": "python",
   "pygments_lexer": "ipython3",
   "version": "3.12.3"
  }
 },
 "nbformat": 4,
 "nbformat_minor": 5
}
