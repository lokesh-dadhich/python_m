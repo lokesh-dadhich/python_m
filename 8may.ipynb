{
 "cells": [
  {
   "cell_type": "code",
   "execution_count": 1,
   "id": "da8a1257-4245-4962-a4ea-b4f3587d1356",
   "metadata": {},
   "outputs": [],
   "source": [
    "#file handling\n",
    "#mechanism (read/write operation)\n"
   ]
  },
  {
   "cell_type": "code",
   "execution_count": 2,
   "id": "a27e9b8b-eca4-4b76-afa4-bf1b45cc301e",
   "metadata": {},
   "outputs": [
    {
     "name": "stdout",
     "output_type": "stream",
     "text": [
      "hey lokesh\n"
     ]
    }
   ],
   "source": [
    "#open(\"filename , \")\n",
    "fileobj = open(\"lokesh.txt\")\n",
    "out = fileobj.read()\n",
    "fileobj.close()\n",
    "\n",
    "print(out)"
   ]
  },
  {
   "cell_type": "code",
   "execution_count": 3,
   "id": "4f19edfa-b20b-4065-b298-7a83cc1f9dcf",
   "metadata": {},
   "outputs": [],
   "source": [
    "#open\n",
    "#read/write\n",
    "#close"
   ]
  },
  {
   "cell_type": "code",
   "execution_count": 5,
   "id": "955bf90a-c858-4b5b-a9a9-694ba1c790e1",
   "metadata": {},
   "outputs": [],
   "source": [
    "fileobj = open(\"lokesh.txt\",\"w\")\n",
    "out = fileobj.write(\"user\")\n",
    "\n",
    "fileobj.close()\n",
    "\n"
   ]
  },
  {
   "cell_type": "code",
   "execution_count": 6,
   "id": "fa7d5069-dbec-457e-be41-49a4ff36d61d",
   "metadata": {},
   "outputs": [
    {
     "name": "stdout",
     "output_type": "stream",
     "text": [
      "user\n"
     ]
    }
   ],
   "source": [
    "fileobj = open(\"lokesh.txt\",\"r+\")\n",
    "print( fileobj.read() )\n",
    "out = fileobj.write(\"###\")\n",
    "\n",
    "fileobj.close()"
   ]
  },
  {
   "cell_type": "code",
   "execution_count": 8,
   "id": "a8f7fccd-3311-4db9-a726-2d4da3e67981",
   "metadata": {},
   "outputs": [
    {
     "name": "stdout",
     "output_type": "stream",
     "text": [
      "er###\n"
     ]
    }
   ],
   "source": [
    "fileobj = open(\"lokesh.txt\",\"r+\")\n",
    "fileobj.write(\"$$\")\n",
    "print( fileobj.read() )\n",
    "fileobj.close()"
   ]
  },
  {
   "cell_type": "code",
   "execution_count": 13,
   "id": "73063983-2c66-4cad-9656-b9e563a872d6",
   "metadata": {},
   "outputs": [
    {
     "name": "stdout",
     "output_type": "stream",
     "text": [
      "6\n",
      "4\n",
      "sh\n"
     ]
    }
   ],
   "source": [
    "fileobj = open(\"lokesh.txt\",\"w+\")\n",
    "fileobj.write(\"lokesh\")\n",
    "print(  fileobj.tell()  )   #position \n",
    "#change posotion\n",
    "fileobj.seek(4)\n",
    "print(  fileobj.tell()  ) \n",
    "print( fileobj.read() )\n",
    "fileobj.close()"
   ]
  },
  {
   "cell_type": "code",
   "execution_count": 16,
   "id": "ab614582-7535-4981-8a08-2db932a4c21e",
   "metadata": {},
   "outputs": [
    {
     "name": "stdout",
     "output_type": "stream",
     "text": [
      "hey lokesh\n",
      "hey devesh\n"
     ]
    }
   ],
   "source": [
    "# method 2\n",
    "#close()\n",
    "\n",
    "with open(\"lokesh.txt\",\"r\") as fileobj:\n",
    "    x=fileobj.read()\n",
    "\n",
    "print(x)"
   ]
  },
  {
   "cell_type": "code",
   "execution_count": 17,
   "id": "31a79e18-b183-4209-8b7d-192af0c62fdf",
   "metadata": {},
   "outputs": [
    {
     "name": "stdout",
     "output_type": "stream",
     "text": [
      "hey lokesh\n",
      "\n"
     ]
    }
   ],
   "source": [
    "with open(\"lokesh.txt\",\"r\") as fileobj:\n",
    "    print( fileobj.readline() )\n",
    "\n"
   ]
  },
  {
   "cell_type": "code",
   "execution_count": 21,
   "id": "9659b04d-fd8c-4a0b-ab90-b61eca8c72f0",
   "metadata": {},
   "outputs": [
    {
     "name": "stdout",
     "output_type": "stream",
     "text": [
      "hey lokesh\n",
      "\n",
      "hey devesh\n"
     ]
    }
   ],
   "source": [
    "with open(\"lokesh.txt\",\"r\") as fileobj:\n",
    "    for line in fileobj:\n",
    "        print( line )"
   ]
  },
  {
   "cell_type": "code",
   "execution_count": 22,
   "id": "7c0520a2-1c7b-413f-b282-64d4e9a0e27b",
   "metadata": {},
   "outputs": [
    {
     "name": "stdout",
     "output_type": "stream",
     "text": [
      "['hey lokesh\\n', 'hey devesh']\n"
     ]
    }
   ],
   "source": [
    "with open(\"lokesh.txt\",\"r\") as fileobj:\n",
    "    print( fileobj.readlines() )"
   ]
  },
  {
   "cell_type": "code",
   "execution_count": 23,
   "id": "7c384a68-6ed7-4d1d-a0ce-07258fb56a21",
   "metadata": {},
   "outputs": [
    {
     "name": "stdout",
     "output_type": "stream",
     "text": [
      "hey lokesh\n",
      "hey devesh\n"
     ]
    }
   ],
   "source": [
    "with open(\"lokesh.txt\",\"r\") as fileobj:\n",
    "    for line in fileobj:\n",
    "        print( line.strip() )"
   ]
  },
  {
   "cell_type": "raw",
   "id": "3eedf9bb-7e4b-411c-9786-5ebac358fef7",
   "metadata": {},
   "source": [
    "import csv\n",
    "fileobj = open(\"lokesh.txt\")\n",
    "print( fileobj.read() )\n",
    "csv_fileobj = csv.reader(fileobj)\n",
    "\n",
    "for line in csv_fileobj:\n",
    "    print(line)\n",
    "    break\n"
   ]
  },
  {
   "cell_type": "code",
   "execution_count": null,
   "id": "0d871ad5-4827-4ee3-b252-acc5010e458d",
   "metadata": {},
   "outputs": [],
   "source": []
  }
 ],
 "metadata": {
  "kernelspec": {
   "display_name": "Python 3 (ipykernel)",
   "language": "python",
   "name": "python3"
  },
  "language_info": {
   "codemirror_mode": {
    "name": "ipython",
    "version": 3
   },
   "file_extension": ".py",
   "mimetype": "text/x-python",
   "name": "python",
   "nbconvert_exporter": "python",
   "pygments_lexer": "ipython3",
   "version": "3.11.7"
  }
 },
 "nbformat": 4,
 "nbformat_minor": 5
}
