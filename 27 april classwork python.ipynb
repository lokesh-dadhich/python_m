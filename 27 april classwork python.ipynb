{
 "cells": [
  {
   "cell_type": "code",
   "execution_count": 1,
   "id": "95377719-237b-4b93-835a-fc3eadf63260",
   "metadata": {},
   "outputs": [],
   "source": [
    "#dictionary\n",
    "\n",
    "#collection of element\n",
    "#comma\n",
    "#key :value (element)\n",
    "# key : value , key: value\n",
    "#don't have index position\n",
    "#mutuable in natur"
   ]
  },
  {
   "cell_type": "code",
   "execution_count": 7,
   "id": "9400bf7e-fb6e-4155-a06f-104482434a7b",
   "metadata": {},
   "outputs": [
    {
     "name": "stdout",
     "output_type": "stream",
     "text": [
      "{1: 'tushar', 2: 'aman', 3: 'adity', 'company': 'regex'}\n"
     ]
    }
   ],
   "source": [
    "mydictionary={1:\"tushar\",2: \"aman\" ,3:\"adity\", \"company\" :\"regex\"}\n",
    "print(mydictionary)"
   ]
  },
  {
   "cell_type": "code",
   "execution_count": 8,
   "id": "406cf21f-0b25-4c0c-9de1-fceb72854d98",
   "metadata": {},
   "outputs": [],
   "source": [
    "mydictionary={1:\"tushar\",2: \"aman\" ,3:\"adity\", \"company\" :\"regex\"}\n",
    "#update\n",
    "mydictionary[4]=500"
   ]
  },
  {
   "cell_type": "code",
   "execution_count": 9,
   "id": "5370234a-32b7-4db6-a9a7-7c73f7cb8900",
   "metadata": {},
   "outputs": [
    {
     "data": {
      "text/plain": [
       "{1: 'tushar', 2: 'aman', 3: 'adity', 'company': 'regex', 4: 500}"
      ]
     },
     "execution_count": 9,
     "metadata": {},
     "output_type": "execute_result"
    }
   ],
   "source": [
    "mydictionary"
   ]
  },
  {
   "cell_type": "code",
   "execution_count": 13,
   "id": "30f9b499-5054-4bf0-907a-132fc2317416",
   "metadata": {},
   "outputs": [
    {
     "ename": "KeyError",
     "evalue": "2",
     "output_type": "error",
     "traceback": [
      "\u001b[1;31m---------------------------------------------------------------------------\u001b[0m",
      "\u001b[1;31mKeyError\u001b[0m                                  Traceback (most recent call last)",
      "Cell \u001b[1;32mIn[13], line 1\u001b[0m\n\u001b[1;32m----> 1\u001b[0m x\u001b[38;5;241m=\u001b[39mmydictionary\u001b[38;5;241m.\u001b[39mpop(\u001b[38;5;241m2\u001b[39m)\n\u001b[0;32m      2\u001b[0m \u001b[38;5;28mprint\u001b[39m(x)\n",
      "\u001b[1;31mKeyError\u001b[0m: 2"
     ]
    }
   ],
   "source": [
    "x=mydictionary.pop(2)\n",
    "print(x)"
   ]
  },
  {
   "cell_type": "code",
   "execution_count": 14,
   "id": "9e545c98-74b2-4b75-9484-94b8065028c4",
   "metadata": {},
   "outputs": [
    {
     "name": "stdout",
     "output_type": "stream",
     "text": [
      "(4, 500)\n"
     ]
    }
   ],
   "source": [
    "x=mydictionary.popitem()\n",
    "print(x)"
   ]
  },
  {
   "cell_type": "code",
   "execution_count": 15,
   "id": "cc74651e-c6ed-445c-b58f-0ddd541cc7a4",
   "metadata": {},
   "outputs": [
    {
     "data": {
      "text/plain": [
       "{1: 'tushar', 3: 'adity', 'company': 'regex'}"
      ]
     },
     "execution_count": 15,
     "metadata": {},
     "output_type": "execute_result"
    }
   ],
   "source": [
    "mydictionary"
   ]
  },
  {
   "cell_type": "code",
   "execution_count": 16,
   "id": "455ea706-054a-4ed6-bbe2-04d148552f6b",
   "metadata": {},
   "outputs": [
    {
     "data": {
      "text/plain": [
       "True"
      ]
     },
     "execution_count": 16,
     "metadata": {},
     "output_type": "execute_result"
    }
   ],
   "source": [
    "1 in mydictionary"
   ]
  },
  {
   "cell_type": "code",
   "execution_count": 18,
   "id": "f3d7a4fb-2ead-42c4-840c-37ea28300c11",
   "metadata": {},
   "outputs": [
    {
     "data": {
      "text/plain": [
       "False"
      ]
     },
     "execution_count": 18,
     "metadata": {},
     "output_type": "execute_result"
    }
   ],
   "source": [
    "\"tushar\" in mydictionary"
   ]
  },
  {
   "cell_type": "code",
   "execution_count": 20,
   "id": "394bd9d6-0f64-45b5-9188-ddad8f49f6be",
   "metadata": {},
   "outputs": [
    {
     "data": {
      "text/plain": [
       "dict_keys([1, 3, 'company'])"
      ]
     },
     "execution_count": 20,
     "metadata": {},
     "output_type": "execute_result"
    }
   ],
   "source": [
    "mydictionary.keys()"
   ]
  },
  {
   "cell_type": "code",
   "execution_count": 21,
   "id": "adbb37d5-0024-4ffa-a208-c8295c1a26cd",
   "metadata": {},
   "outputs": [
    {
     "data": {
      "text/plain": [
       "dict_values(['tushar', 'adity', 'regex'])"
      ]
     },
     "execution_count": 21,
     "metadata": {},
     "output_type": "execute_result"
    }
   ],
   "source": [
    "mydictionary.values()"
   ]
  },
  {
   "cell_type": "code",
   "execution_count": 22,
   "id": "c80237cc-8392-4386-8d64-e5995f4fb608",
   "metadata": {},
   "outputs": [
    {
     "data": {
      "text/plain": [
       "dict_items([(1, 'tushar'), (3, 'adity'), ('company', 'regex')])"
      ]
     },
     "execution_count": 22,
     "metadata": {},
     "output_type": "execute_result"
    }
   ],
   "source": [
    "mydictionary.items()"
   ]
  },
  {
   "cell_type": "code",
   "execution_count": 23,
   "id": "a442fdbc-a5bd-43bd-816f-d2f1d3a60d88",
   "metadata": {},
   "outputs": [
    {
     "data": {
      "text/plain": [
       "{1: 'tushar', 3: 'adity', 'company': 'regex'}"
      ]
     },
     "execution_count": 23,
     "metadata": {},
     "output_type": "execute_result"
    }
   ],
   "source": [
    "mydictionary"
   ]
  },
  {
   "cell_type": "code",
   "execution_count": 25,
   "id": "dfc8b79c-7687-4c94-8ef3-ed1a18ca7d46",
   "metadata": {},
   "outputs": [
    {
     "name": "stdout",
     "output_type": "stream",
     "text": [
      "{1: 'tushar', 3: 'adity', 'company': 'regex', 100: 1}\n"
     ]
    }
   ],
   "source": [
    "\n",
    "x=100\n",
    "\n",
    "if(x not in mydictionary):\n",
    "     mydictionary[x]=1\n",
    "\n",
    "print(mydictionary)\n",
    "    "
   ]
  },
  {
   "cell_type": "code",
   "execution_count": 26,
   "id": "1425e2b6-f61f-44b2-ac7a-c4d9c983728f",
   "metadata": {},
   "outputs": [
    {
     "name": "stdout",
     "output_type": "stream",
     "text": [
      "{'hello tushar'}\n"
     ]
    }
   ],
   "source": [
    "mydictionary={\"hello tushar\"}\n",
    "print(mydictionary)"
   ]
  },
  {
   "cell_type": "code",
   "execution_count": 29,
   "id": "5db2e1fc-388a-4b58-b1c1-6d613718086f",
   "metadata": {},
   "outputs": [
    {
     "name": "stdout",
     "output_type": "stream",
     "text": [
      "{'totalchar': 2}\n"
     ]
    }
   ],
   "source": [
    "mydictionary={}\n",
    "for i in \"hello tushar\":\n",
    "    if(\"totalchar\" not in mydictionary):\n",
    "        mydictionary[\"totalchar\"]=1\n",
    "else:\n",
    "    mydictionary[\"totalchar\"] =  mydictionary[\"totalchar\"]+1\n",
    "print(mydictionary)    \n"
   ]
  },
  {
   "cell_type": "code",
   "execution_count": 30,
   "id": "72f5810d-66fb-47af-bc74-68fe4f9b2a97",
   "metadata": {},
   "outputs": [
    {
     "name": "stdout",
     "output_type": "stream",
     "text": [
      "{'hello tushar yash hey'}\n"
     ]
    }
   ],
   "source": [
    "mydictionary={\"hello tushar yash hey\"}\n",
    "print(mydictionary)"
   ]
  },
  {
   "cell_type": "code",
   "execution_count": 36,
   "id": "6deea6e8-d0b0-4a6c-bf2b-54c15ddd7933",
   "metadata": {},
   "outputs": [
    {
     "name": "stdout",
     "output_type": "stream",
     "text": [
      "{'h': 1, 'e': 1, 'l': 1, 'o': 1, ' ': 1, 'k': 1, 's': 1}\n"
     ]
    }
   ],
   "source": [
    "mydictionary={}\n",
    "for i in \"hello lokesh\":\n",
    "    if(i not in mydictionary):\n",
    "        mydictionary[i]=1\n",
    "\n",
    "print(mydictionary)\n"
   ]
  },
  {
   "cell_type": "code",
   "execution_count": null,
   "id": "a3d934ed-f377-4565-9453-6b4bfca5513e",
   "metadata": {},
   "outputs": [],
   "source": []
  }
 ],
 "metadata": {
  "kernelspec": {
   "display_name": "Python 3 (ipykernel)",
   "language": "python",
   "name": "python3"
  },
  "language_info": {
   "codemirror_mode": {
    "name": "ipython",
    "version": 3
   },
   "file_extension": ".py",
   "mimetype": "text/x-python",
   "name": "python",
   "nbconvert_exporter": "python",
   "pygments_lexer": "ipython3",
   "version": "3.11.7"
  }
 },
 "nbformat": 4,
 "nbformat_minor": 5
}
