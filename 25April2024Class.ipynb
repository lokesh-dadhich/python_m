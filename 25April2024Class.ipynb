{
  "cells": [
    {
      "cell_type": "code",
      "execution_count": 1,
      "metadata": {
        "id": "JnZSTtLIYNCX"
      },
      "outputs": [],
      "source": [
        "#data type ( list)"
      ]
    },
    {
      "cell_type": "code",
      "execution_count": 4,
      "metadata": {
        "colab": {
          "base_uri": "https://localhost:8080/"
        },
        "id": "Eu1UUhiaaKAy",
        "outputId": "71f08b99-c894-43b4-b3bd-1a9ad9e5e7db"
      },
      "outputs": [
        {
          "name": "stdout",
          "output_type": "stream",
          "text": [
            "1\n",
            "2\n",
            "4\n"
          ]
        }
      ],
      "source": [
        "for i in range(1,5):\n",
        "    if(i==3):\n",
        "      continue\n",
        "      print(\"hello\")\n",
        "    print(i)"
      ]
    },
    {
      "cell_type": "code",
      "execution_count": 11,
      "metadata": {
        "colab": {
          "base_uri": "https://localhost:8080/"
        },
        "id": "2B0WS8vpasUZ",
        "outputId": "2641995a-97a3-4a96-e9a5-41b6fd922ca3"
      },
      "outputs": [
        {
          "name": "stdout",
          "output_type": "stream",
          "text": [
            "enter the number to chek prime=2\n",
            "prime number\n"
          ]
        }
      ],
      "source": [
        "# prime numbers\n",
        "num=int(input(\"enter the number to chek prime=\"))\n",
        "x=0\n",
        "for i in range(2,num ):\n",
        "      if(num%i==0):\n",
        "        x=1\n",
        "        break\n",
        "\n",
        "if(x==1):\n",
        "  print(\"not a prime number\")\n",
        "else:\n",
        "  print(\"prime number\")"
      ]
    },
    {
      "cell_type": "code",
      "execution_count": 12,
      "metadata": {
        "id": "wrrbjlJ_coVS"
      },
      "outputs": [],
      "source": [
        "#list(sequence data type)\n",
        "#collection of mulltipal element of different datatype\n",
        "#mutuable\n",
        "#element can mutuable or immutable\n",
        "#[]\n",
        "#update , delete, insert and access based on index position"
      ]
    },
    {
      "cell_type": "code",
      "execution_count": 13,
      "metadata": {
        "colab": {
          "base_uri": "https://localhost:8080/"
        },
        "id": "SHl1_HJ7ei2h",
        "outputId": "1d281b0d-61dc-48b1-d7a1-08e5caadd301"
      },
      "outputs": [
        {
          "data": {
            "text/plain": [
              "list"
            ]
          },
          "execution_count": 13,
          "metadata": {},
          "output_type": "execute_result"
        }
      ],
      "source": [
        "mylist=[10,20,30.0,\"hello\"]\n",
        "type(mylist)"
      ]
    },
    {
      "cell_type": "code",
      "execution_count": 14,
      "metadata": {
        "colab": {
          "base_uri": "https://localhost:8080/",
          "height": 35
        },
        "id": "7TCOQkhme2yz",
        "outputId": "95792ecc-4f30-47fd-a215-20aceb0bcc9c"
      },
      "outputs": [
        {
          "data": {
            "application/vnd.google.colaboratory.intrinsic+json": {
              "type": "string"
            },
            "text/plain": [
              "'hello'"
            ]
          },
          "execution_count": 14,
          "metadata": {},
          "output_type": "execute_result"
        }
      ],
      "source": [
        "mylist[-1]"
      ]
    },
    {
      "cell_type": "code",
      "execution_count": 15,
      "metadata": {
        "colab": {
          "base_uri": "https://localhost:8080/"
        },
        "id": "RWKUYrbne9I6",
        "outputId": "cdebdd22-943c-4ef7-a926-948fb5a06192"
      },
      "outputs": [
        {
          "data": {
            "text/plain": [
              "[10, 20, 30.0]"
            ]
          },
          "execution_count": 15,
          "metadata": {},
          "output_type": "execute_result"
        }
      ],
      "source": [
        "mylist[0:3]"
      ]
    },
    {
      "cell_type": "code",
      "execution_count": 17,
      "metadata": {
        "colab": {
          "base_uri": "https://localhost:8080/"
        },
        "id": "CPu6r83NfDGf",
        "outputId": "bbfae3c3-bde7-48bf-c158-fd2b6ccf57d8"
      },
      "outputs": [
        {
          "data": {
            "text/plain": [
              "['hello', 30.0]"
            ]
          },
          "execution_count": 17,
          "metadata": {},
          "output_type": "execute_result"
        }
      ],
      "source": [
        "mylist=[10,20,30.0,\"hello\"]\n",
        "mylist[-1:-3:-1]"
      ]
    },
    {
      "cell_type": "code",
      "execution_count": 19,
      "metadata": {
        "colab": {
          "base_uri": "https://localhost:8080/"
        },
        "id": "B_M2e2t0fZ7u",
        "outputId": "307edb62-de18-426d-da2f-92f0e1451e79"
      },
      "outputs": [
        {
          "data": {
            "text/plain": [
              "[90, 20, 30.0, 'hello']"
            ]
          },
          "execution_count": 19,
          "metadata": {},
          "output_type": "execute_result"
        }
      ],
      "source": [
        "mylist=[10,20,30.0,\"hello\"]\n",
        "mylist[0]=90\n",
        "mylist"
      ]
    },
    {
      "cell_type": "code",
      "execution_count": 21,
      "metadata": {
        "colab": {
          "base_uri": "https://localhost:8080/"
        },
        "id": "AOWVNR8af4ZO",
        "outputId": "ad281b82-9b4e-46c8-9142-cd42ba2165cf"
      },
      "outputs": [
        {
          "data": {
            "text/plain": [
              "['a', 'b', 30.0, 'hello']"
            ]
          },
          "execution_count": 21,
          "metadata": {},
          "output_type": "execute_result"
        }
      ],
      "source": [
        "mylist[0:2]=[\"a\",\"b\"]\n",
        "mylist"
      ]
    },
    {
      "cell_type": "code",
      "execution_count": 22,
      "metadata": {
        "colab": {
          "base_uri": "https://localhost:8080/"
        },
        "id": "u8IVbA0tgC5v",
        "outputId": "5bbd85d2-60b2-4da0-abbd-ab2b9c839490"
      },
      "outputs": [
        {
          "data": {
            "text/plain": [
              "[10, 20, 30.0, 'hello', 'piyush']"
            ]
          },
          "execution_count": 22,
          "metadata": {},
          "output_type": "execute_result"
        }
      ],
      "source": [
        "#list functions\n",
        "mylist=[10,20,30.0,\"hello\"]\n",
        "mylist.append(\"piyush\")\n",
        "\n",
        "\n",
        "mylist"
      ]
    },
    {
      "cell_type": "code",
      "execution_count": 23,
      "metadata": {
        "colab": {
          "base_uri": "https://localhost:8080/"
        },
        "id": "IIHz09lKgndv",
        "outputId": "36f65242-1167-4c93-df00-cab1df784c82"
      },
      "outputs": [
        {
          "name": "stdout",
          "output_type": "stream",
          "text": [
            "[10, 20, 30.0, 'hello', 'y', 'a', 's', 'h']\n"
          ]
        }
      ],
      "source": [
        "mylist=[10,20,30.0,\"hello\"]\n",
        "mylist.extend(\"yash\")\n",
        "\n",
        "print(mylist)"
      ]
    },
    {
      "cell_type": "code",
      "execution_count": 24,
      "metadata": {
        "colab": {
          "base_uri": "https://localhost:8080/"
        },
        "id": "b2yfGmAwhHIh",
        "outputId": "9af30f22-51f6-42d8-e101-6eeb4d80ec88"
      },
      "outputs": [
        {
          "name": "stdout",
          "output_type": "stream",
          "text": [
            "[10, 20, 30.0, 'hello', 'yash']\n"
          ]
        }
      ],
      "source": [
        "mylist=[10,20,30.0,\"hello\"]\n",
        "mylist.extend([\"yash\"])\n",
        "\n",
        "print(mylist)"
      ]
    },
    {
      "cell_type": "code",
      "execution_count": 27,
      "metadata": {
        "colab": {
          "base_uri": "https://localhost:8080/"
        },
        "id": "35GyFgjVhPAP",
        "outputId": "13f16a38-feb1-4945-910e-b2fd148a6953"
      },
      "outputs": [
        {
          "name": "stdout",
          "output_type": "stream",
          "text": [
            "[10, 20, 30.0, 'hello', 99, 88]\n"
          ]
        }
      ],
      "source": [
        "mylist=[10,20,30.0,\"hello\"]\n",
        "mylist.extend([99,88])\n",
        "\n",
        "print(mylist)"
      ]
    },
    {
      "cell_type": "code",
      "execution_count": 29,
      "metadata": {
        "colab": {
          "base_uri": "https://localhost:8080/"
        },
        "id": "EhQmgRkRhhjx",
        "outputId": "4afa18e5-eb12-47d4-d8b2-1a2d07525d14"
      },
      "outputs": [
        {
          "name": "stdout",
          "output_type": "stream",
          "text": [
            "[10, 20, 30.0] hello\n"
          ]
        }
      ],
      "source": [
        "mylist=[10,20,30.0,\"hello\"]\n",
        "x=mylist.pop()\n",
        "\n",
        "print(mylist ,x)"
      ]
    },
    {
      "cell_type": "code",
      "execution_count": 31,
      "metadata": {
        "colab": {
          "base_uri": "https://localhost:8080/"
        },
        "id": "Il21pCJlhx3t",
        "outputId": "027055ff-8da8-45f1-db7c-8edb898d5a16"
      },
      "outputs": [
        {
          "data": {
            "text/plain": [
              "[10, 20, 'hello']"
            ]
          },
          "execution_count": 31,
          "metadata": {},
          "output_type": "execute_result"
        }
      ],
      "source": [
        "mylist=[10,20,30.0,\"hello\"]\n",
        "mylist.pop(2)\n",
        "\n",
        "mylist"
      ]
    },
    {
      "cell_type": "code",
      "execution_count": 33,
      "metadata": {
        "colab": {
          "base_uri": "https://localhost:8080/"
        },
        "id": "I18SVUxbiSTM",
        "outputId": "c0827fa8-1bb0-480e-ec9d-4f936f9b0f76"
      },
      "outputs": [
        {
          "name": "stdout",
          "output_type": "stream",
          "text": [
            "Help on list object:\n",
            "\n",
            "class list(object)\n",
            " |  list(iterable=(), /)\n",
            " |  \n",
            " |  Built-in mutable sequence.\n",
            " |  \n",
            " |  If no argument is given, the constructor creates a new empty list.\n",
            " |  The argument must be an iterable if specified.\n",
            " |  \n",
            " |  Methods defined here:\n",
            " |  \n",
            " |  __add__(self, value, /)\n",
            " |      Return self+value.\n",
            " |  \n",
            " |  __contains__(self, key, /)\n",
            " |      Return key in self.\n",
            " |  \n",
            " |  __delitem__(self, key, /)\n",
            " |      Delete self[key].\n",
            " |  \n",
            " |  __eq__(self, value, /)\n",
            " |      Return self==value.\n",
            " |  \n",
            " |  __ge__(self, value, /)\n",
            " |      Return self>=value.\n",
            " |  \n",
            " |  __getattribute__(self, name, /)\n",
            " |      Return getattr(self, name).\n",
            " |  \n",
            " |  __getitem__(...)\n",
            " |      x.__getitem__(y) <==> x[y]\n",
            " |  \n",
            " |  __gt__(self, value, /)\n",
            " |      Return self>value.\n",
            " |  \n",
            " |  __iadd__(self, value, /)\n",
            " |      Implement self+=value.\n",
            " |  \n",
            " |  __imul__(self, value, /)\n",
            " |      Implement self*=value.\n",
            " |  \n",
            " |  __init__(self, /, *args, **kwargs)\n",
            " |      Initialize self.  See help(type(self)) for accurate signature.\n",
            " |  \n",
            " |  __iter__(self, /)\n",
            " |      Implement iter(self).\n",
            " |  \n",
            " |  __le__(self, value, /)\n",
            " |      Return self<=value.\n",
            " |  \n",
            " |  __len__(self, /)\n",
            " |      Return len(self).\n",
            " |  \n",
            " |  __lt__(self, value, /)\n",
            " |      Return self<value.\n",
            " |  \n",
            " |  __mul__(self, value, /)\n",
            " |      Return self*value.\n",
            " |  \n",
            " |  __ne__(self, value, /)\n",
            " |      Return self!=value.\n",
            " |  \n",
            " |  __repr__(self, /)\n",
            " |      Return repr(self).\n",
            " |  \n",
            " |  __reversed__(self, /)\n",
            " |      Return a reverse iterator over the list.\n",
            " |  \n",
            " |  __rmul__(self, value, /)\n",
            " |      Return value*self.\n",
            " |  \n",
            " |  __setitem__(self, key, value, /)\n",
            " |      Set self[key] to value.\n",
            " |  \n",
            " |  __sizeof__(self, /)\n",
            " |      Return the size of the list in memory, in bytes.\n",
            " |  \n",
            " |  append(self, object, /)\n",
            " |      Append object to the end of the list.\n",
            " |  \n",
            " |  clear(self, /)\n",
            " |      Remove all items from list.\n",
            " |  \n",
            " |  copy(self, /)\n",
            " |      Return a shallow copy of the list.\n",
            " |  \n",
            " |  count(self, value, /)\n",
            " |      Return number of occurrences of value.\n",
            " |  \n",
            " |  extend(self, iterable, /)\n",
            " |      Extend list by appending elements from the iterable.\n",
            " |  \n",
            " |  index(self, value, start=0, stop=9223372036854775807, /)\n",
            " |      Return first index of value.\n",
            " |      \n",
            " |      Raises ValueError if the value is not present.\n",
            " |  \n",
            " |  insert(self, index, object, /)\n",
            " |      Insert object before index.\n",
            " |  \n",
            " |  pop(self, index=-1, /)\n",
            " |      Remove and return item at index (default last).\n",
            " |      \n",
            " |      Raises IndexError if list is empty or index is out of range.\n",
            " |  \n",
            " |  remove(self, value, /)\n",
            " |      Remove first occurrence of value.\n",
            " |      \n",
            " |      Raises ValueError if the value is not present.\n",
            " |  \n",
            " |  reverse(self, /)\n",
            " |      Reverse *IN PLACE*.\n",
            " |  \n",
            " |  sort(self, /, *, key=None, reverse=False)\n",
            " |      Sort the list in ascending order and return None.\n",
            " |      \n",
            " |      The sort is in-place (i.e. the list itself is modified) and stable (i.e. the\n",
            " |      order of two equal elements is maintained).\n",
            " |      \n",
            " |      If a key function is given, apply it once to each list item and sort them,\n",
            " |      ascending or descending, according to their function values.\n",
            " |      \n",
            " |      The reverse flag can be set to sort in descending order.\n",
            " |  \n",
            " |  ----------------------------------------------------------------------\n",
            " |  Class methods defined here:\n",
            " |  \n",
            " |  __class_getitem__(...) from builtins.type\n",
            " |      See PEP 585\n",
            " |  \n",
            " |  ----------------------------------------------------------------------\n",
            " |  Static methods defined here:\n",
            " |  \n",
            " |  __new__(*args, **kwargs) from builtins.type\n",
            " |      Create and return a new object.  See help(type) for accurate signature.\n",
            " |  \n",
            " |  ----------------------------------------------------------------------\n",
            " |  Data and other attributes defined here:\n",
            " |  \n",
            " |  __hash__ = None\n",
            "\n"
          ]
        }
      ],
      "source": [
        "mylist=[10,20,30.0,\"hello\"]\n",
        "\n",
        "help(mylist)"
      ]
    },
    {
      "cell_type": "code",
      "execution_count": 35,
      "metadata": {
        "colab": {
          "base_uri": "https://localhost:8080/"
        },
        "id": "AFaebcFZioYP",
        "outputId": "e7970c16-0483-4cac-89c8-4515b6681cd4"
      },
      "outputs": [
        {
          "data": {
            "text/plain": [
              "[10, 30.0, 'hello', 20, 500, 20]"
            ]
          },
          "execution_count": 35,
          "metadata": {},
          "output_type": "execute_result"
        }
      ],
      "source": [
        "mylist=[10,20,30.0,\"hello\",20,500,20]\n",
        "\n",
        "mylist.remove(20)\n",
        "mylist"
      ]
    },
    {
      "cell_type": "code",
      "execution_count": 36,
      "metadata": {
        "colab": {
          "base_uri": "https://localhost:8080/"
        },
        "id": "m2Dzk9aXi34Y",
        "outputId": "09a1a5ac-de9e-45ae-87d7-f292bd9f014b"
      },
      "outputs": [
        {
          "name": "stdout",
          "output_type": "stream",
          "text": [
            "[30.0, 'hello', 20, 500, 20]\n"
          ]
        }
      ],
      "source": [
        "del mylist[0]\n",
        "\n",
        "print(mylist)"
      ]
    },
    {
      "cell_type": "code",
      "execution_count": 37,
      "metadata": {
        "colab": {
          "base_uri": "https://localhost:8080/"
        },
        "id": "MAWy6BZhjkSq",
        "outputId": "99a98b53-2e20-4897-8cea-ec8f9572b6f6"
      },
      "outputs": [
        {
          "name": "stdout",
          "output_type": "stream",
          "text": [
            "30.0\n",
            "hello\n",
            "20\n",
            "500\n",
            "20\n"
          ]
        }
      ],
      "source": [
        "for i in mylist:\n",
        "      print(i)"
      ]
    },
    {
      "cell_type": "code",
      "execution_count": 38,
      "metadata": {
        "colab": {
          "base_uri": "https://localhost:8080/"
        },
        "id": "KB5bOEt8jq9z",
        "outputId": "76d4a699-6544-4ca1-9547-1ef5aac13995"
      },
      "outputs": [
        {
          "name": "stdout",
          "output_type": "stream",
          "text": [
            "1\n",
            "20\n",
            "30\n"
          ]
        }
      ],
      "source": [
        "mylist=[\"a\" ,1,20,30]\n",
        "\n",
        "for i in mylist:\n",
        "      if type(i) == int:\n",
        "         print(i)"
      ]
    },
    {
      "cell_type": "code",
      "execution_count": 40,
      "metadata": {
        "colab": {
          "base_uri": "https://localhost:8080/"
        },
        "id": "TrAVvgRikmdR",
        "outputId": "987fc92f-ec17-48be-d5c5-5c48affbbd60"
      },
      "outputs": [
        {
          "name": "stdout",
          "output_type": "stream",
          "text": [
            "20\n",
            "30\n"
          ]
        }
      ],
      "source": [
        "mylist=[\"a\" ,1,20,30]\n",
        "\n",
        "for i in mylist:\n",
        "      if (type(i) is int and i%2==0):\n",
        "         print(i)"
      ]
    },
    {
      "cell_type": "code",
      "execution_count": 42,
      "metadata": {
        "colab": {
          "base_uri": "https://localhost:8080/"
        },
        "id": "KK0ddJpvk9y2",
        "outputId": "5635e6a0-a2d5-4363-a382-4802299b8e8c"
      },
      "outputs": [
        {
          "data": {
            "text/plain": [
              "[20, 30]"
            ]
          },
          "execution_count": 42,
          "metadata": {},
          "output_type": "execute_result"
        }
      ],
      "source": [
        "mylist=[\"a\" ,1,20,30]\n",
        "newlist=[]\n",
        "for i in mylist:\n",
        "      if (type(i) is int and i%2==0):\n",
        "         newlist.append(i)\n",
        "newlist\n"
      ]
    },
    {
      "cell_type": "code",
      "execution_count": 45,
      "metadata": {
        "colab": {
          "base_uri": "https://localhost:8080/"
        },
        "id": "Whgq8PcNlh3z",
        "outputId": "644d9b6a-e94f-4280-e1d5-ff311aeb9244"
      },
      "outputs": [
        {
          "name": "stdout",
          "output_type": "stream",
          "text": [
            "enter the value =10\n",
            "[1, 2, 5, 10]\n"
          ]
        }
      ],
      "source": [
        " x=int(input(\"enter the value =\"))\n",
        "newlist=[]\n",
        "for i in range(1,x+1):\n",
        "      if(x%i==0):\n",
        "          newlist.append(i)\n",
        "print(newlist)\n",
        "\n"
      ]
    },
    {
      "cell_type": "code",
      "execution_count": null,
      "metadata": {
        "id": "PWHv-mezoHnV"
      },
      "outputs": [],
      "source": []
    }
  ],
  "metadata": {
    "colab": {
      "provenance": []
    },
    "kernelspec": {
      "display_name": "Python 3",
      "name": "python3"
    },
    "language_info": {
      "name": "python"
    }
  },
  "nbformat": 4,
  "nbformat_minor": 0
}
