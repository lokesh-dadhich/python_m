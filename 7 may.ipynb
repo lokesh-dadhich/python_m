{
 "cells": [
  {
   "cell_type": "code",
   "execution_count": 1,
   "id": "d2f83528",
   "metadata": {},
   "outputs": [],
   "source": [
    "# types of arguments\n",
    "# required\n",
    "# positional\n",
    "# keyword\n",
    "# default\n",
    "# variable length argument "
   ]
  },
  {
   "cell_type": "code",
   "execution_count": 8,
   "id": "0b32b190",
   "metadata": {},
   "outputs": [],
   "source": [
    "# required arguments ---> number of arguments==number of parameters \n",
    "def employee(eid,ename,email):\n",
    "    print(f\"Eid:{eid}\\nEname:{ename}\\nEmail:{email}\")"
   ]
  },
  {
   "cell_type": "code",
   "execution_count": 9,
   "id": "91e6b427",
   "metadata": {},
   "outputs": [
    {
     "name": "stdout",
     "output_type": "stream",
     "text": [
      "Eid:100\n",
      "Ename:tushar\n",
      "Email:abc@gmail.com\n"
     ]
    }
   ],
   "source": [
    "employee(100,\"tushar\",\"abc@gmail.com\")"
   ]
  },
  {
   "cell_type": "code",
   "execution_count": 10,
   "id": "23843a88",
   "metadata": {},
   "outputs": [
    {
     "name": "stdout",
     "output_type": "stream",
     "text": [
      "Eid:tushar\n",
      "Ename:abc@gmail.com\n",
      "Email:100\n"
     ]
    }
   ],
   "source": [
    "# positinal \n",
    "employee(\"tushar\",\"abc@gmail.com\",100)"
   ]
  },
  {
   "cell_type": "code",
   "execution_count": 11,
   "id": "3c678a38",
   "metadata": {},
   "outputs": [
    {
     "name": "stdout",
     "output_type": "stream",
     "text": [
      "Eid:100\n",
      "Ename:tushar\n",
      "Email:abc\n"
     ]
    }
   ],
   "source": [
    "# keyword argumnet\n",
    "\n",
    "employee(ename=\"tushar\",email=\"abc\",eid=100)"
   ]
  },
  {
   "cell_type": "code",
   "execution_count": 12,
   "id": "952de497",
   "metadata": {},
   "outputs": [
    {
     "name": "stdout",
     "output_type": "stream",
     "text": [
      "Eid:100\n",
      "Ename:tushar\n",
      "Email:abc\n"
     ]
    }
   ],
   "source": [
    "# positinal should be in leftmost and keyword should be in rightmost\n",
    "\n",
    "# positional + keyword argument\n",
    "\n",
    "employee(100,email=\"abc\",ename=\"tushar\")"
   ]
  },
  {
   "cell_type": "code",
   "execution_count": 13,
   "id": "62656230",
   "metadata": {},
   "outputs": [
    {
     "ename": "TypeError",
     "evalue": "employee() got multiple values for argument 'eid'",
     "output_type": "error",
     "traceback": [
      "\u001b[1;31m---------------------------------------------------------------------------\u001b[0m",
      "\u001b[1;31mTypeError\u001b[0m                                 Traceback (most recent call last)",
      "\u001b[1;32m<ipython-input-13-a7d8e983d837>\u001b[0m in \u001b[0;36m<module>\u001b[1;34m\u001b[0m\n\u001b[1;32m----> 1\u001b[1;33m \u001b[0memployee\u001b[0m\u001b[1;33m(\u001b[0m\u001b[1;36m100\u001b[0m\u001b[1;33m,\u001b[0m\u001b[0memail\u001b[0m\u001b[1;33m=\u001b[0m\u001b[1;34m\"abc\"\u001b[0m\u001b[1;33m,\u001b[0m\u001b[0mename\u001b[0m\u001b[1;33m=\u001b[0m\u001b[1;34m\"tushar\"\u001b[0m\u001b[1;33m,\u001b[0m\u001b[0meid\u001b[0m\u001b[1;33m=\u001b[0m\u001b[1;36m111\u001b[0m\u001b[1;33m)\u001b[0m\u001b[1;33m\u001b[0m\u001b[1;33m\u001b[0m\u001b[0m\n\u001b[0m",
      "\u001b[1;31mTypeError\u001b[0m: employee() got multiple values for argument 'eid'"
     ]
    }
   ],
   "source": [
    "employee(100,email=\"abc\",ename=\"tushar\",eid=111)"
   ]
  },
  {
   "cell_type": "code",
   "execution_count": 14,
   "id": "d1822fb6",
   "metadata": {},
   "outputs": [
    {
     "name": "stdout",
     "output_type": "stream",
     "text": [
      "Eid:100\n",
      "Ename:tushar\n",
      "Email:regex@gmail.com\n"
     ]
    }
   ],
   "source": [
    "# default argument\n",
    "def employee(eid,ename,email=\"regex@gmail.com\"):  # default should be at the end of the function\n",
    "    print(f\"Eid:{eid}\\nEname:{ename}\\nEmail:{email}\")\n",
    "employee(100,\"tushar\")"
   ]
  },
  {
   "cell_type": "code",
   "execution_count": 15,
   "id": "8f985d9c",
   "metadata": {},
   "outputs": [
    {
     "name": "stdout",
     "output_type": "stream",
     "text": [
      "Eid:100\n",
      "Ename:aman\n",
      "Email:aman@gmail.com\n"
     ]
    }
   ],
   "source": [
    "employee(100,\"aman\",\"aman@gmail.com\")"
   ]
  },
  {
   "cell_type": "code",
   "execution_count": 16,
   "id": "521dd143",
   "metadata": {},
   "outputs": [
    {
     "ename": "TypeError",
     "evalue": "instagram() missing 1 required positional argument: 'mobile'",
     "output_type": "error",
     "traceback": [
      "\u001b[1;31m---------------------------------------------------------------------------\u001b[0m",
      "\u001b[1;31mTypeError\u001b[0m                                 Traceback (most recent call last)",
      "\u001b[1;32m<ipython-input-16-96b6ac84ab02>\u001b[0m in \u001b[0;36m<module>\u001b[1;34m\u001b[0m\n\u001b[0;32m      4\u001b[0m     \u001b[0mprint\u001b[0m\u001b[1;33m(\u001b[0m\u001b[0musername\u001b[0m\u001b[1;33m,\u001b[0m\u001b[0mdob\u001b[0m\u001b[1;33m,\u001b[0m\u001b[0mmobile\u001b[0m\u001b[1;33m)\u001b[0m\u001b[1;33m\u001b[0m\u001b[1;33m\u001b[0m\u001b[0m\n\u001b[0;32m      5\u001b[0m \u001b[1;33m\u001b[0m\u001b[0m\n\u001b[1;32m----> 6\u001b[1;33m \u001b[0minstagram\u001b[0m\u001b[1;33m(\u001b[0m\u001b[1;34m\"aman\"\u001b[0m\u001b[1;33m,\u001b[0m\u001b[1;34m\"17-02-2000\"\u001b[0m\u001b[1;33m)\u001b[0m\u001b[1;33m\u001b[0m\u001b[1;33m\u001b[0m\u001b[0m\n\u001b[0m",
      "\u001b[1;31mTypeError\u001b[0m: instagram() missing 1 required positional argument: 'mobile'"
     ]
    }
   ],
   "source": [
    "# variable length argument \n",
    "\n",
    "def instagram(username,dob,mobile):\n",
    "    print(username,dob,mobile)\n",
    "    \n",
    "instagram(\"aman\",\"17-02-2000\")"
   ]
  },
  {
   "cell_type": "code",
   "execution_count": 18,
   "id": "dea67d55",
   "metadata": {},
   "outputs": [
    {
     "name": "stdout",
     "output_type": "stream",
     "text": [
      "('aman', '17-02-2000') <class 'tuple'>\n",
      "('aman',) <class 'tuple'>\n",
      "() <class 'tuple'>\n"
     ]
    }
   ],
   "source": [
    "def instagram(*data):\n",
    "    print(data,type(data))\n",
    "    \n",
    "instagram(\"aman\",\"17-02-2000\")\n",
    "instagram(\"aman\")\n",
    "instagram()\n",
    "\n",
    "# drawback---> we cant get to know the sequence of argument"
   ]
  },
  {
   "cell_type": "code",
   "execution_count": 19,
   "id": "bc05a385",
   "metadata": {},
   "outputs": [
    {
     "name": "stdout",
     "output_type": "stream",
     "text": [
      "{'salary': 10000, 'age': 20, 'msg': 'hello'} <class 'dict'>\n",
      "{'msg': 'happy', 'salary': 99} <class 'dict'>\n"
     ]
    }
   ],
   "source": [
    "# keyword variable length argument \n",
    "\n",
    "def instagram(**data):\n",
    "    print(data,type(data))\n",
    "    \n",
    "instagram(salary=10000,age=20,msg=\"hello\")\n",
    "instagram(msg=\"happy\",salary=99)"
   ]
  },
  {
   "cell_type": "code",
   "execution_count": 20,
   "id": "f5af6096",
   "metadata": {},
   "outputs": [],
   "source": [
    "# *args vs **kwargs\n",
    "# variable length arguments(args) vs key variable length argument(kwargs)"
   ]
  },
  {
   "cell_type": "code",
   "execution_count": 21,
   "id": "4cb0feb5",
   "metadata": {},
   "outputs": [
    {
     "name": "stdout",
     "output_type": "stream",
     "text": [
      "<function func at 0x0000020517D029D0>\n",
      "hello\n"
     ]
    }
   ],
   "source": [
    "# first class functions\n",
    "\n",
    "def func():\n",
    "    print(\"hello\")\n",
    "    \n",
    "print(func) # ---> whwn we want memory address then paranthesis should not be there in function calling\n",
    "x=func\n",
    "x()"
   ]
  },
  {
   "cell_type": "code",
   "execution_count": 22,
   "id": "32cbeb66",
   "metadata": {},
   "outputs": [
    {
     "name": "stdout",
     "output_type": "stream",
     "text": [
      "<function func at 0x0000020517D02550>\n",
      "hello\n"
     ]
    },
    {
     "ename": "TypeError",
     "evalue": "'NoneType' object is not callable",
     "output_type": "error",
     "traceback": [
      "\u001b[1;31m---------------------------------------------------------------------------\u001b[0m",
      "\u001b[1;31mTypeError\u001b[0m                                 Traceback (most recent call last)",
      "\u001b[1;32m<ipython-input-22-2bce0654ade7>\u001b[0m in \u001b[0;36m<module>\u001b[1;34m\u001b[0m\n\u001b[0;32m      4\u001b[0m \u001b[0mprint\u001b[0m\u001b[1;33m(\u001b[0m\u001b[0mfunc\u001b[0m\u001b[1;33m)\u001b[0m\u001b[1;33m\u001b[0m\u001b[1;33m\u001b[0m\u001b[0m\n\u001b[0;32m      5\u001b[0m \u001b[0mx\u001b[0m\u001b[1;33m=\u001b[0m\u001b[0mfunc\u001b[0m\u001b[1;33m(\u001b[0m\u001b[1;33m)\u001b[0m\u001b[1;33m\u001b[0m\u001b[1;33m\u001b[0m\u001b[0m\n\u001b[1;32m----> 6\u001b[1;33m \u001b[0mx\u001b[0m\u001b[1;33m(\u001b[0m\u001b[1;33m)\u001b[0m\u001b[1;33m\u001b[0m\u001b[1;33m\u001b[0m\u001b[0m\n\u001b[0m",
      "\u001b[1;31mTypeError\u001b[0m: 'NoneType' object is not callable"
     ]
    }
   ],
   "source": [
    "def func():\n",
    "    print(\"hello\")\n",
    "    \n",
    "print(func)\n",
    "x=func()\n",
    "x()"
   ]
  },
  {
   "cell_type": "code",
   "execution_count": 26,
   "id": "83782e51",
   "metadata": {},
   "outputs": [
    {
     "name": "stdout",
     "output_type": "stream",
     "text": [
      "hello\n",
      "None\n"
     ]
    }
   ],
   "source": [
    "x=func()\n",
    "print(x)"
   ]
  },
  {
   "cell_type": "code",
   "execution_count": 28,
   "id": "90c6a7bf",
   "metadata": {},
   "outputs": [
    {
     "name": "stdout",
     "output_type": "stream",
     "text": [
      "100\n",
      "None\n"
     ]
    }
   ],
   "source": [
    "def square(x):\n",
    "    print(x*x)\n",
    "    \n",
    "print(square(10))"
   ]
  },
  {
   "cell_type": "code",
   "execution_count": 29,
   "id": "f04768a1",
   "metadata": {},
   "outputs": [
    {
     "name": "stdout",
     "output_type": "stream",
     "text": [
      "30\n"
     ]
    }
   ],
   "source": [
    "def square(x):\n",
    "    print(x*x)\n",
    "    \n",
    "def addno(z,func):\n",
    "    print(z+func)\n",
    "    \n",
    "    \n",
    "addno(10,20)\n",
    "    "
   ]
  },
  {
   "cell_type": "code",
   "execution_count": 30,
   "id": "63ceea04",
   "metadata": {},
   "outputs": [
    {
     "name": "stdout",
     "output_type": "stream",
     "text": [
      "225\n",
      "10 None\n"
     ]
    }
   ],
   "source": [
    "def addno(z,func):\n",
    "    print(z,func)\n",
    "    \n",
    "    \n",
    "addno(10,square(15))\n",
    "    "
   ]
  },
  {
   "cell_type": "code",
   "execution_count": 31,
   "id": "e5187a77",
   "metadata": {},
   "outputs": [
    {
     "name": "stdout",
     "output_type": "stream",
     "text": [
      "10 <function square at 0x0000020517D02C10>\n"
     ]
    }
   ],
   "source": [
    "addno(10,square)"
   ]
  },
  {
   "cell_type": "code",
   "execution_count": 35,
   "id": "c7819f34",
   "metadata": {},
   "outputs": [
    {
     "name": "stdout",
     "output_type": "stream",
     "text": [
      "410\n"
     ]
    }
   ],
   "source": [
    "def square(x):\n",
    "    return(x*x)\n",
    "\n",
    "def addno(z,func):\n",
    "    print(z+func(20))\n",
    "    \n",
    "    \n",
    "addno(10,square)\n",
    "    "
   ]
  },
  {
   "cell_type": "code",
   "execution_count": null,
   "id": "bd192924",
   "metadata": {},
   "outputs": [],
   "source": [
    "# read file handling"
   ]
  }
 ],
 "metadata": {
  "kernelspec": {
   "display_name": "Python 3",
   "language": "python",
   "name": "python3"
  },
  "language_info": {
   "codemirror_mode": {
    "name": "ipython",
    "version": 3
   },
   "file_extension": ".py",
   "mimetype": "text/x-python",
   "name": "python",
   "nbconvert_exporter": "python",
   "pygments_lexer": "ipython3",
   "version": "3.8.8"
  }
 },
 "nbformat": 4,
 "nbformat_minor": 5
}
