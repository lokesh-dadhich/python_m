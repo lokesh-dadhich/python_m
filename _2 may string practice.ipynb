{
 "cells": [
  {
   "cell_type": "code",
   "execution_count": 5,
   "id": "eb3ec79b",
   "metadata": {},
   "outputs": [
    {
     "name": "stdout",
     "output_type": "stream",
     "text": [
      "Enter a character:l\n",
      "he  o wor d\n"
     ]
    }
   ],
   "source": [
    "# 1. Python program to remove given character from String.\n",
    "st=\"hello world\"\n",
    "x= input(\"Enter a character:\")\n",
    "for i in st:\n",
    "    if x in st:\n",
    "        st=st.replace(x,\" \")\n",
    "print(st)"
   ]
  },
  {
   "cell_type": "code",
   "execution_count": 8,
   "id": "35f02b8a",
   "metadata": {},
   "outputs": [
    {
     "name": "stdout",
     "output_type": "stream",
     "text": [
      "Enter a character:l\n",
      "3\n"
     ]
    }
   ],
   "source": [
    "# 2. Python Program to count occurrence of a given characters in string.\n",
    "\n",
    "x= input(\"Enter a character:\")\n",
    "st=\"hello world\"\n",
    "count=0\n",
    "for i in st:\n",
    "    if i==x:\n",
    "        count+=1\n",
    "print(count)"
   ]
  },
  {
   "cell_type": "code",
   "execution_count": 12,
   "id": "5592bbc6",
   "metadata": {},
   "outputs": [
    {
     "name": "stdout",
     "output_type": "stream",
     "text": [
      "Strings are not anagram\n"
     ]
    }
   ],
   "source": [
    "# 3. Python Program to check if two Strings are Anagram.\n",
    "st1=\"Hello World\"\n",
    "st2=\"Hello geeks\"\n",
    "if sorted(st1)==sorted(st2):\n",
    "    print(\"Strings are anagram\")\n",
    "else:\n",
    "    print(\"Strings are not anagram\")"
   ]
  },
  {
   "cell_type": "code",
   "execution_count": 30,
   "id": "800f98b9",
   "metadata": {},
   "outputs": [
    {
     "name": "stdout",
     "output_type": "stream",
     "text": [
      "Not palindrome\n"
     ]
    }
   ],
   "source": [
    "# 4. Python program to check a String is palindrome or not.\n",
    "st1=\"rst\"\n",
    "st2=\"\"\n",
    "st2=st1[::-1]\n",
    "\n",
    "if st1==st2:\n",
    "    print(\"Palindrome\")\n",
    "else:\n",
    "    print(\"Not palindrome\")"
   ]
  },
  {
   "cell_type": "code",
   "execution_count": 31,
   "id": "72b22af9",
   "metadata": {},
   "outputs": [
    {
     "name": "stdout",
     "output_type": "stream",
     "text": [
      "Enter any character:a\n",
      "Vowel\n"
     ]
    }
   ],
   "source": [
    "# 5. Python program to check given character is vowel or consonant.\n",
    "s=input(\"Enter any character:\")\n",
    "if s=='a' or s=='e' or s=='i' or s=='o' or s=='u':\n",
    "    print(\"Vowel\")\n",
    "else:\n",
    "    print(\"consonant\")"
   ]
  },
  {
   "cell_type": "code",
   "execution_count": 35,
   "id": "2cd2b284",
   "metadata": {},
   "outputs": [
    {
     "name": "stdout",
     "output_type": "stream",
     "text": [
      "Enter any input:3\n",
      "Digit\n"
     ]
    }
   ],
   "source": [
    "# 6. Python program to check given character is digit or not.\n",
    "s=input(\"Enter any input:\")\n",
    "\n",
    "if s>='0' or s<='9':\n",
    "    print(\"Digit\")\n",
    "else:\n",
    "    print(\"Not a digit\")"
   ]
  },
  {
   "cell_type": "code",
   "execution_count": 39,
   "id": "fd29a212",
   "metadata": {},
   "outputs": [
    {
     "name": "stdout",
     "output_type": "stream",
     "text": [
      "Enter any input:\n",
      "Not a digit\n"
     ]
    }
   ],
   "source": [
    "# 7. Python program to check given character is digit or not using isdigit() method.\n",
    "s=input(\"Enter any input:\")\n",
    "if s.isdigit():\n",
    "    print(\"Digit\")\n",
    "else:\n",
    "    print(\"Not a digit\")"
   ]
  },
  {
   "cell_type": "code",
   "execution_count": 55,
   "id": "398b45d9",
   "metadata": {},
   "outputs": [
    {
     "name": "stdout",
     "output_type": "stream",
     "text": [
      "Enter any character:1\n",
      "hello1world\n"
     ]
    }
   ],
   "source": [
    "# 8. Python program to replace the string space with a given character.\n",
    "t=\"hello world\"\n",
    "r=\"\"\n",
    "s=input(\"Enter any character:\")\n",
    "for i in t:\n",
    "    if i==' ':\n",
    "        i=s\n",
    "    r+=i\n",
    "print(r)"
   ]
  },
  {
   "cell_type": "code",
   "execution_count": 56,
   "id": "3c0b195d",
   "metadata": {},
   "outputs": [
    {
     "name": "stdout",
     "output_type": "stream",
     "text": [
      "Enter a String : asdfghjkl\n",
      "ASDFGHJKL\n"
     ]
    }
   ],
   "source": [
    "# 10. Python program to convert lowercase char to uppercase of string.\n",
    "string = input(\"Enter a String : \")\n",
    "string=string.upper()\n",
    "print(string)"
   ]
  },
  {
   "cell_type": "code",
   "execution_count": 58,
   "id": "db902124",
   "metadata": {},
   "outputs": [
    {
     "name": "stdout",
     "output_type": "stream",
     "text": [
      "Enter a String : asdfghj\n",
      "Asdfghj\n"
     ]
    }
   ],
   "source": [
    "# 11. Python program to convert lowercase vowel to uppercase in string\n",
    "string = input(\"Enter a String : \")\n",
    "for s in string:\n",
    "    if s=='a' or s=='e' or s=='i' or s=='o' or s=='u':\n",
    "        x=s.upper()\n",
    "        string=string.replace(s,x)\n",
    "print(string)\n"
   ]
  },
  {
   "cell_type": "code",
   "execution_count": 60,
   "id": "83cec914",
   "metadata": {},
   "outputs": [
    {
     "name": "stdout",
     "output_type": "stream",
     "text": [
      "Enter a String : asdfgherty\n",
      "sdfghrty\n"
     ]
    }
   ],
   "source": [
    "# 12. Python program to delete vowels in a given string.\n",
    "string = input(\"Enter a String : \")\n",
    "for s in string:\n",
    "    if s=='a' or s=='e' or s=='i' or s=='o' or s=='u':\n",
    "        string=string.replace(s,\"\")\n",
    "print(string)\n"
   ]
  },
  {
   "cell_type": "code",
   "execution_count": 62,
   "id": "1ebcda88",
   "metadata": {},
   "outputs": [
    {
     "name": "stdout",
     "output_type": "stream",
     "text": [
      "Enter a String : helloworld\n",
      "vowels 3 consonants 7\n"
     ]
    }
   ],
   "source": [
    "# 13. Python program to count the Occurrence Of Vowels and Consonants in a String.\n",
    "string = input(\"Enter a String : \")\n",
    "countv=0\n",
    "countc=0\n",
    "for s in string:\n",
    "    if s=='a' or s=='e' or s=='i' or s=='o' or s=='u':\n",
    "        countv+=1\n",
    "    else:\n",
    "        countc+=1\n",
    "print(\"vowels\",countv,\"consonants\",countc)"
   ]
  },
  {
   "cell_type": "code",
   "execution_count": 69,
   "id": "b0df6c3b",
   "metadata": {},
   "outputs": [
    {
     "name": "stdout",
     "output_type": "stream",
     "text": [
      "Enter a String : asdfgasdfgsd\n",
      "s\n",
      "d\n"
     ]
    }
   ],
   "source": [
    "# 14. Python program to print the highest frequency character in a String.\n",
    "string = input(\"Enter a String : \")\n",
    "mydict={}\n",
    "\n",
    "for i in string:\n",
    "    if i not in mydict:\n",
    "        mydict[i]=1\n",
    "    else:\n",
    "        mydict[i]+=1\n",
    "for i in mydict:\n",
    "    if mydict[i]==max(mydict.values()):\n",
    "        print(i)\n",
    "    \n",
    "    \n"
   ]
  },
  {
   "cell_type": "code",
   "execution_count": 70,
   "id": "892695d6",
   "metadata": {},
   "outputs": [
    {
     "name": "stdout",
     "output_type": "stream",
     "text": [
      "Enter a String : hello\n",
      "h-llo\n"
     ]
    }
   ],
   "source": [
    "# 15. Python program to Replace First Occurrence Of Vowel With ‘-‘ in String.\n",
    "string = input(\"Enter a String : \")\n",
    "for s in string:\n",
    "    if s=='a' or s=='e' or s=='i' or s=='o' or s=='u':\n",
    "        string=string.replace(s,\"-\")\n",
    "        break\n",
    "print(string)"
   ]
  },
  {
   "cell_type": "code",
   "execution_count": 74,
   "id": "20aa51c5",
   "metadata": {},
   "outputs": [
    {
     "name": "stdout",
     "output_type": "stream",
     "text": [
      "Enter a String : 1234abcd<>?&\n",
      "4 4 4\n"
     ]
    }
   ],
   "source": [
    "# 16. Python program to count alphabets, digits and special characters.\n",
    "string = input(\"Enter a String : \")\n",
    "countd=0\n",
    "counta=0\n",
    "counts=0\n",
    "for i in string:\n",
    "    if i.isdigit():\n",
    "        countd+=1\n",
    "    elif i.isalpha():\n",
    "        counta+=1\n",
    "    else:\n",
    "        counts+=1\n",
    "print(countd,counta,counts)"
   ]
  },
  {
   "cell_type": "code",
   "execution_count": 78,
   "id": "98fe19db",
   "metadata": {},
   "outputs": [
    {
     "name": "stdout",
     "output_type": "stream",
     "text": [
      "Enter a String : qwer\n",
      "q/w/e/r/\n"
     ]
    }
   ],
   "source": [
    "# 17. Python program to separate characters in a given string.\n",
    "string = input(\"Enter a String : \")\n",
    "str1=\"\"\n",
    "for i in string:\n",
    "    str1+=i+\"/\"\n",
    "print(str1)\n"
   ]
  },
  {
   "cell_type": "code",
   "execution_count": 79,
   "id": "b41df246",
   "metadata": {},
   "outputs": [
    {
     "name": "stdout",
     "output_type": "stream",
     "text": [
      "Enter a String : qwer rty\n",
      "qwerrty\n"
     ]
    }
   ],
   "source": [
    "# 18. Python program to remove blank space from string.\n",
    "\n",
    "string = input(\"Enter a String : \")\n",
    "for s in string:\n",
    "    if s==\" \":\n",
    "        string=string.replace(\" \",\"\")\n",
    "print(string)\n",
    "\n"
   ]
  },
  {
   "cell_type": "code",
   "execution_count": 81,
   "id": "cd40d0ee",
   "metadata": {},
   "outputs": [
    {
     "name": "stdout",
     "output_type": "stream",
     "text": [
      "Enter a String : asd\n",
      "Enter a String : zxc\n",
      "asdzxc\n"
     ]
    }
   ],
   "source": [
    "# 19. Python program to concatenate two strings without using join() method.\n",
    "string1 = input(\"Enter a String : \")\n",
    "string2 = input(\"Enter a String : \")\n",
    "str3=string1+string2\n",
    "print(str3)\n",
    "\n"
   ]
  },
  {
   "cell_type": "code",
   "execution_count": 89,
   "id": "a9c81fb2",
   "metadata": {},
   "outputs": [
    {
     "name": "stdout",
     "output_type": "stream",
     "text": [
      "Enter a String : 12345\n",
      "Enter a String : -6789\n"
     ]
    },
    {
     "data": {
      "text/plain": [
       "'-678912345'"
      ]
     },
     "execution_count": 89,
     "metadata": {},
     "output_type": "execute_result"
    }
   ],
   "source": [
    "# 20. Python program to concatenate two strings using join() method.\n",
    "string1 = input(\"Enter a String : \")\n",
    "string2 = input(\"Enter a String : \")\n",
    "str3=\"\"\n",
    "str3=str3.join((string2,string1))\n",
    "print(str3)\n"
   ]
  },
  {
   "cell_type": "code",
   "execution_count": 91,
   "id": "de09c410",
   "metadata": {},
   "outputs": [
    {
     "name": "stdout",
     "output_type": "stream",
     "text": [
      "Enter a String : abcdefa\n",
      "bcdef\n"
     ]
    }
   ],
   "source": [
    "# 21. Python program to remove repeated character from string.\n",
    "string = input(\"Enter a String : \")\n",
    "x=\"\"\n",
    "count=0\n",
    "for i in string:\n",
    "    if i not in x:\n",
    "        x+=i\n",
    "        count=1\n",
    "    else:\n",
    "        count+=1\n",
    "    if count>1:\n",
    "        string=string.replace(i,\"\")\n",
    "print(string)\n",
    "    "
   ]
  },
  {
   "cell_type": "code",
   "execution_count": 92,
   "id": "1505b0ba",
   "metadata": {},
   "outputs": [
    {
     "name": "stdout",
     "output_type": "stream",
     "text": [
      "Enter a String : 12345asdf\n",
      "15\n"
     ]
    }
   ],
   "source": [
    "# 22. Python program to calculate sum of integers in string.\n",
    "string = input(\"Enter a String : \")\n",
    "s=0\n",
    "for i in string:\n",
    "    if i.isdigit():\n",
    "        s+=int(i)\n",
    "print(s)\n",
    "        "
   ]
  },
  {
   "cell_type": "code",
   "execution_count": 94,
   "id": "bcf0b62c",
   "metadata": {},
   "outputs": [
    {
     "name": "stdout",
     "output_type": "stream",
     "text": [
      "Enter a String : asdfghj\n",
      "asdfghj asdfghj\n"
     ]
    }
   ],
   "source": [
    "# 24. Python program to copy one string to another string.\n",
    "string = input(\"Enter a String : \")\n",
    "st2=string\n",
    "print(string,st2)\n"
   ]
  },
  {
   "cell_type": "code",
   "execution_count": 105,
   "id": "a1ddd8f2",
   "metadata": {},
   "outputs": [
    {
     "name": "stdout",
     "output_type": "stream",
     "text": [
      "Enter a String : asdf\n",
      "adfs\n"
     ]
    }
   ],
   "source": [
    "# 25. Python Program to sort characters of string in ascending order.\n",
    "string = input(\"Enter a String : \")\n",
    "lst=list(string)\n",
    "lst.sort()\n",
    "sortedstr=\"\"\n",
    "for s in lst:\n",
    "    sortedstr+=s\n",
    "print(sortedstr)"
   ]
  },
  {
   "cell_type": "code",
   "execution_count": null,
   "id": "be0e2445",
   "metadata": {},
   "outputs": [],
   "source": []
  }
 ],
 "metadata": {
  "kernelspec": {
   "display_name": "Python 3",
   "language": "python",
   "name": "python3"
  },
  "language_info": {
   "codemirror_mode": {
    "name": "ipython",
    "version": 3
   },
   "file_extension": ".py",
   "mimetype": "text/x-python",
   "name": "python",
   "nbconvert_exporter": "python",
   "pygments_lexer": "ipython3",
   "version": "3.8.8"
  }
 },
 "nbformat": 4,
 "nbformat_minor": 5
}
