{
 "cells": [
  {
   "cell_type": "code",
   "execution_count": 8,
   "id": "8a0f7e2a",
   "metadata": {},
   "outputs": [
    {
     "name": "stdout",
     "output_type": "stream",
     "text": [
      "x x x x x "
     ]
    }
   ],
   "source": [
    "'''\n",
    "1. Define a function generate_n_chars() that takes an integer n and a character c and returns a string, n\n",
    "characters long, consisting only of c:s. For example, generate_n_chars(5,\"x\") should return the string\n",
    "\"xxxxx\". (Python is unusual in that you can actually write an expression 5 * \"x\" that will evaluate to\n",
    "\"xxxxx\". For the sake of the exercise you should ignore that the problem can be solved in this\n",
    "manner.)\n",
    "'''\n",
    "\n",
    "\n",
    "def func(n,c):\n",
    "    for i in range (0,n):\n",
    "        print(c,end=\" \")\n",
    "        \n",
    "        \n",
    "func(5,\"x\")"
   ]
  },
  {
   "cell_type": "code",
   "execution_count": 20,
   "id": "b12c254f",
   "metadata": {},
   "outputs": [
    {
     "name": "stdout",
     "output_type": "stream",
     "text": [
      "40\n"
     ]
    }
   ],
   "source": [
    "'''\n",
    "2. The function max() from exercise 1) and the function max_of_three() from exercise 2) will only\n",
    "work for two and three numbers, respectively. But suppose we have a much larger number of\n",
    "numbers, or suppose we cannot tell in advance how many they are? Write a function max_in_list()\n",
    "that takes a list of numbers and returns the largest one.\n",
    "\n",
    "'''\n",
    "\n",
    "def maxnum(mylist):\n",
    "    if len(mylist)==0:\n",
    "        return None\n",
    "    else:\n",
    "        maxnum=mylist[0]\n",
    "        for i in mylist:\n",
    "            if i>maxnum:\n",
    "                maxnum=i\n",
    "    return maxnum\n",
    "        \n",
    "        \n",
    "x=[1,3,6,10,40,12,4]\n",
    "print(maxnum(x))"
   ]
  },
  {
   "cell_type": "code",
   "execution_count": 22,
   "id": "7f1a9181",
   "metadata": {},
   "outputs": [
    {
     "data": {
      "text/plain": [
       "[3, 5, 6, 7, 7]"
      ]
     },
     "execution_count": 22,
     "metadata": {},
     "output_type": "execute_result"
    }
   ],
   "source": [
    "'''\n",
    "3. Write a program that maps a list of words into a list of integers representing the lengths of the\n",
    "correponding words.\n",
    "\n",
    "'''\n",
    "\n",
    "\n",
    "def word(mylist):\n",
    "    lenlist=[]\n",
    "    for i in mylist:\n",
    "        x=len(i)\n",
    "        lenlist.append(x)\n",
    "    return lenlist\n",
    "\n",
    "x=[\"ram\",\"shyam\",\"madhav\",\"krishna\",\"shubham\"]\n",
    "word(x)"
   ]
  },
  {
   "cell_type": "code",
   "execution_count": 24,
   "id": "c02d0b0f",
   "metadata": {},
   "outputs": [
    {
     "name": "stdout",
     "output_type": "stream",
     "text": [
      "{'ram': 3, 'shyam': 5, 'madhav': 6, 'krishna': 7, 'shubham': 7}\n"
     ]
    }
   ],
   "source": [
    "\n",
    "def word(mylist):\n",
    "    lenlist={}\n",
    "    for i in mylist:\n",
    "        x=len(i)\n",
    "        lenlist[i]=x\n",
    "    return lenlist\n",
    "\n",
    "x=[\"ram\",\"shyam\",\"madhav\",\"krishna\",\"shubham\"]\n",
    "print(word(x))"
   ]
  },
  {
   "cell_type": "code",
   "execution_count": 27,
   "id": "1c0ebd40",
   "metadata": {},
   "outputs": [
    {
     "name": "stdout",
     "output_type": "stream",
     "text": [
      "7\n"
     ]
    }
   ],
   "source": [
    "'''\n",
    "4. Write a function find_longest_word() that takes a list of words and returns the length of the longest\n",
    "one. Modify the same to do with lambda expression.\n",
    "\n",
    "'''\n",
    "\n",
    "\n",
    "def longword(mylist):\n",
    "    lenlong=0\n",
    "    for i in mylist:\n",
    "        if len(i)>lenlong:\n",
    "            lenlong=len(i)\n",
    "    return lenlong\n",
    "\n",
    "x=[\"ram\",\"shyam\",\"madhav\",\"krishna\",\"shubham\"]\n",
    "print(longword(x))"
   ]
  },
  {
   "cell_type": "code",
   "execution_count": 28,
   "id": "73f2477a",
   "metadata": {},
   "outputs": [
    {
     "name": "stdout",
     "output_type": "stream",
     "text": [
      "{'krishna': 7}\n"
     ]
    }
   ],
   "source": [
    "\n",
    "def longword(mylist):\n",
    "    lenlong=0\n",
    "    longword=\"\"\n",
    "    for i in mylist:\n",
    "        if len(i)>lenlong:\n",
    "            lenlong=len(i)\n",
    "            longword=i\n",
    "        \n",
    "    return {longword:lenlong}\n",
    "\n",
    "x=[\"ram\",\"shyam\",\"madhav\",\"krishna\",\"shubham\"]\n",
    "print(longword(x))"
   ]
  },
  {
   "cell_type": "code",
   "execution_count": 30,
   "id": "354f9f9a",
   "metadata": {},
   "outputs": [
    {
     "name": "stdout",
     "output_type": "stream",
     "text": [
      "['shyam', 'madhav', 'krishna', 'shubham']\n"
     ]
    }
   ],
   "source": [
    "'''\n",
    "5. Write a function filter_long_words() that takes a list of words and an integer n and returns the list\n",
    "of words that are longer than n. Modify the same to do with lambda expression.\n",
    "\n",
    "'''\n",
    "\n",
    "def filterlist(mylist,n):\n",
    "    filteredlist=[]\n",
    "    for i in mylist:\n",
    "        if len(i)>n:\n",
    "            filteredlist.append(i)\n",
    "    return filteredlist\n",
    " \n",
    "    \n",
    "x=[\"ram\",\"shyam\",\"madhav\",\"krishna\",\"shubham\"]\n",
    "print(filterlist(x,3))"
   ]
  },
  {
   "cell_type": "code",
   "execution_count": 52,
   "id": "50596a6d",
   "metadata": {},
   "outputs": [
    {
     "name": "stdout",
     "output_type": "stream",
     "text": [
      "Enter string :121\n",
      "True\n"
     ]
    }
   ],
   "source": [
    "'''\n",
    "6. Write a version of a palindrome recognizer that also accepts phrase palindromes such as \"Go hang a\n",
    "salami I'm a lasagna hog.\", \"Was it a rat I saw?\", \"Step on no pets\", \"Sit on a potato pan, Otis\", \"Lisa\n",
    "Bonet ate no basil\", \"Satan, oscillate my metallic sonatas\", \"I roamed under it as a tired nude Maori\",\n",
    "\"Rise to vote sir\", or the exclamation \"Dammit, I'm mad!\". Note that punctuation, capitalization, and\n",
    "spacing are usually ignored.\n",
    "\n",
    "'''\n",
    "\n",
    "\n",
    "def pal(x):\n",
    "        x=x.lower()\n",
    "        x=x.replace(\" \",\"\")\n",
    "        if x==x[::-1]:\n",
    "            return True\n",
    "        else:\n",
    "            return False\n",
    "    \n",
    "\n",
    "s=input(\"Enter string :\")\n",
    "print(palstring(s))"
   ]
  },
  {
   "cell_type": "code",
   "execution_count": 56,
   "id": "6b97bf94",
   "metadata": {},
   "outputs": [
    {
     "name": "stdout",
     "output_type": "stream",
     "text": [
      "True\n"
     ]
    }
   ],
   "source": [
    "'''\n",
    "7. A pangram is a sentence that contains all the letters of the English alphabet at least once, for\n",
    "example: The quick brown fox jumps over the lazy dog. Your task here is to write a function to check\n",
    "a sentence to see if it is a pangram or not.\n",
    "\n",
    "'''\n",
    "\n",
    "\n",
    "def panagram(x):\n",
    "    alphabets=[\"q\",\"w\",\"e\",\"r\",\"t\",\"y\",\"u\",\"i\",\"o\",\"p\",\"a\",\"s\",\"d\",\"f\",\"g\",\"h\",\"j\",\"k\",\"l\",\"z\",\"x\",\"c\",\"v\",\"b\",\"n\",\"m\"]\n",
    "    x=x.lower()\n",
    "    for char in x:\n",
    "        if char in alphabets:\n",
    "            return True\n",
    "        else:\n",
    "            return False\n",
    "    \n",
    "s=\"The quick brown fox jumps over the lazy dog\"\n",
    "print(panagram(s))"
   ]
  },
  {
   "cell_type": "code",
   "execution_count": 65,
   "id": "b1a9fa51",
   "metadata": {},
   "outputs": [
    {
     "name": "stdout",
     "output_type": "stream",
     "text": [
      "['god', 'jul', 'och', 'gott', 'nytt', 'år']\n"
     ]
    }
   ],
   "source": [
    "'''\n",
    "8. Represent a small bilingual lexicon as a Python dictionary in the following fashion {\"merry\":\"god\",\n",
    "\"christmas\":\"jul\", \"and\":\"och\", \"happy\":gott\", \"new\":\"nytt\", \"year\":\"år\"} and use it to translate your\n",
    "Christmas cards from English into Swedish. That is, write a function translate() that takes a list of\n",
    "English words and returns a list of Swedish words.\n",
    "\n",
    "'''\n",
    "\n",
    "def translate(xlist):\n",
    "    mydict={\"merry\":\"god\",\"christmas\":\"jul\", \"and\":\"och\", \"happy\":\"gott\", \"new\":\"nytt\", \"year\":\"år\"}\n",
    "    newlist=[]\n",
    "    for i in xlist:\n",
    "        if i in mydict.keys():\n",
    "            y=mydict[i]\n",
    "            newlist.append(y)\n",
    "    return newlist\n",
    "        \n",
    "s=[\"merry\",\"christmas\", \"and\", \"happy\", \"new\", \"year\"]\n",
    "print(translate(s))            "
   ]
  },
  {
   "cell_type": "code",
   "execution_count": 64,
   "id": "c0422d1f",
   "metadata": {},
   "outputs": [
    {
     "name": "stdout",
     "output_type": "stream",
     "text": [
      "{'a': 12, 'b': 1, 'c': 1, 'f': 1, 's': 1, 'g': 1, 'd': 5}\n"
     ]
    }
   ],
   "source": [
    "'''\n",
    "9. Write a function char_freq() that takes a string and builds a frequency listing of the characters\n",
    "contained in it. Represent the frequency listing as a Python dictionary. Try it with something\n",
    "likechar_freq(\"abbabcbdbabdbdbabababcbcbab\").\n",
    "\n",
    "'''\n",
    "\n",
    "def char_freq(s):\n",
    "    mydict={}\n",
    "    count=0\n",
    "    for i in s:\n",
    "        if i not in mydict:\n",
    "            count=1\n",
    "            mydict[i]=count\n",
    "        else:\n",
    "            count+=1\n",
    "            mydict[i]=count\n",
    "    return mydict\n",
    "\n",
    "x=\"abcfsgadddddaaaaaaa\"\n",
    "print(char_freq(x))"
   ]
  },
  {
   "cell_type": "code",
   "execution_count": 67,
   "id": "07f3a8b4",
   "metadata": {},
   "outputs": [],
   "source": [
    "'''\n",
    "10. Create a module called mathematics.py and provide subroutines (should be defined generally and\n",
    "should work for any number of arguments) such as:\n",
    "Add Sub\n",
    "Sort the values Max Sort\n",
    "\n",
    "Internal Use - Confidential\n",
    "\n",
    "Use the module in a program and apply the functions on two array variables (say a and b) to:\n",
    "Add two arrays (and store it in c) Subtract two arrays(and store it in d)\n",
    "Find the minimum and maximum value of the resultant array (c or d) Sort the resultant array(c or d)\n",
    "\n",
    "'''\n",
    "#mathmodule.py\n",
    "\n",
    "#def add(**num):# mathematics.py\n",
    "'''\n",
    "\n",
    "def Add(*args):\n",
    "    return sum(args)\n",
    "\n",
    "def Sub(*args):\n",
    "    result = args[0]\n",
    "    for num in args[1:]:\n",
    "        result -= num\n",
    "    return result\n",
    "\n",
    "def Max(*args):\n",
    "    return max(args)\n",
    "\n",
    "def Sort(*args):\n",
    "    return sorted(args)\n",
    "\n",
    "\n",
    "'''    "
   ]
  },
  {
   "cell_type": "code",
   "execution_count": 3,
   "id": "d7ca96d3",
   "metadata": {},
   "outputs": [
    {
     "name": "stdout",
     "output_type": "stream",
     "text": [
      "importing Jupyter notebook from mathmodule.ipynb\n"
     ]
    }
   ],
   "source": [
    "import mathmodule \n",
    "# main.py\n",
    "\n",
    "# Define two array variables\n",
    "a = [3, 7, 2, 1]\n",
    "b = [5, 4, 6, 2]\n",
    "\n",
    "\n"
   ]
  },
  {
   "cell_type": "code",
   "execution_count": 4,
   "id": "74d7a242",
   "metadata": {},
   "outputs": [
    {
     "ename": "TypeError",
     "evalue": "unsupported operand type(s) for +: 'int' and 'list'",
     "output_type": "error",
     "traceback": [
      "\u001b[1;31m---------------------------------------------------------------------------\u001b[0m",
      "\u001b[1;31mTypeError\u001b[0m                                 Traceback (most recent call last)",
      "\u001b[1;32m<ipython-input-4-e0fdd2941b4f>\u001b[0m in \u001b[0;36m<module>\u001b[1;34m\u001b[0m\n\u001b[0;32m      5\u001b[0m \u001b[1;32mfrom\u001b[0m \u001b[0mipynb\u001b[0m\u001b[1;33m.\u001b[0m\u001b[0mfs\u001b[0m\u001b[1;33m.\u001b[0m\u001b[0mfull\u001b[0m\u001b[1;33m.\u001b[0m\u001b[0mmathmodule\u001b[0m \u001b[1;32mimport\u001b[0m \u001b[0mtotal\u001b[0m\u001b[1;33m\u001b[0m\u001b[1;33m\u001b[0m\u001b[0m\n\u001b[0;32m      6\u001b[0m \u001b[1;33m\u001b[0m\u001b[0m\n\u001b[1;32m----> 7\u001b[1;33m \u001b[0mc\u001b[0m \u001b[1;33m=\u001b[0m \u001b[0mtotal\u001b[0m\u001b[1;33m(\u001b[0m\u001b[0ma\u001b[0m\u001b[1;33m,\u001b[0m \u001b[0mb\u001b[0m\u001b[1;33m)\u001b[0m\u001b[1;33m\u001b[0m\u001b[1;33m\u001b[0m\u001b[0m\n\u001b[0m\u001b[0;32m      8\u001b[0m \u001b[0mprint\u001b[0m\u001b[1;33m(\u001b[0m\u001b[0mc\u001b[0m\u001b[1;33m)\u001b[0m\u001b[1;33m\u001b[0m\u001b[1;33m\u001b[0m\u001b[0m\n\u001b[0;32m      9\u001b[0m \u001b[1;33m\u001b[0m\u001b[0m\n",
      "\u001b[1;32m~\\Python practice regex\\mathmodule.ipynb\u001b[0m in \u001b[0;36mtotal\u001b[1;34m(*args)\u001b[0m\n\u001b[0;32m      9\u001b[0m    \"source\": [\n\u001b[0;32m     10\u001b[0m     \u001b[1;34m\"#mathmodule.py\\n\"\u001b[0m\u001b[1;33m,\u001b[0m\u001b[1;33m\u001b[0m\u001b[1;33m\u001b[0m\u001b[0m\n\u001b[1;32m---> 11\u001b[1;33m     \u001b[1;34m\"\\n\"\u001b[0m\u001b[1;33m,\u001b[0m\u001b[1;33m\u001b[0m\u001b[1;33m\u001b[0m\u001b[0m\n\u001b[0m\u001b[0;32m     12\u001b[0m     \u001b[1;34m\"#def add(**num):# mathematics.py\\n\"\u001b[0m\u001b[1;33m,\u001b[0m\u001b[1;33m\u001b[0m\u001b[1;33m\u001b[0m\u001b[0m\n\u001b[0;32m     13\u001b[0m     \u001b[1;34m\"\\n\"\u001b[0m\u001b[1;33m,\u001b[0m\u001b[1;33m\u001b[0m\u001b[1;33m\u001b[0m\u001b[0m\n",
      "\u001b[1;31mTypeError\u001b[0m: unsupported operand type(s) for +: 'int' and 'list'"
     ]
    }
   ],
   "source": [
    "a = [3, 7, 2, 1]\n",
    "b = [5, 4, 6, 2]\n",
    "\n",
    "import import_ipynb\n",
    "from ipynb.fs.full.mathmodule import total\n",
    "\n",
    "c = total(a, b)\n",
    "print(c)\n",
    "\n",
    "from ipynb.fs.full.mathmodule import difference\n",
    "\n",
    "d = difference(a, b)\n",
    "print(d)\n",
    "\n",
    "\n",
    "from ipynb.fs.full.mathmodule import largest\n",
    "\n",
    "result = largest()\n",
    "print(result)"
   ]
  },
  {
   "cell_type": "code",
   "execution_count": null,
   "id": "c46a8960",
   "metadata": {},
   "outputs": [],
   "source": []
  },
  {
   "cell_type": "code",
   "execution_count": null,
   "id": "dd1e4518",
   "metadata": {},
   "outputs": [],
   "source": []
  }
 ],
 "metadata": {
  "kernelspec": {
   "display_name": "Python 3",
   "language": "python",
   "name": "python3"
  },
  "language_info": {
   "codemirror_mode": {
    "name": "ipython",
    "version": 3
   },
   "file_extension": ".py",
   "mimetype": "text/x-python",
   "name": "python",
   "nbconvert_exporter": "python",
   "pygments_lexer": "ipython3",
   "version": "3.8.8"
  }
 },
 "nbformat": 4,
 "nbformat_minor": 5
}
